{
 "cells": [
  {
   "cell_type": "code",
   "execution_count": 1,
   "id": "80f35f3c",
   "metadata": {},
   "outputs": [
    {
     "data": {
      "text/plain": [
       "'\\nFile:        robot_test.py\\nAuthor:      Pooja Rajamanikandan\\nDate:        09/21/2023\\nSection:     50\\nE-mail:      le64534@umbc.edu\\nDescription: Determine if the user is a robot or human using \\n    conditional statements \\n'"
      ]
     },
     "execution_count": 1,
     "metadata": {},
     "output_type": "execute_result"
    }
   ],
   "source": [
    "\"\"\"\n",
    "File:        robot_test.py\n",
    "Author:      Pooja Rajamanikandan\n",
    "Date:        09/21/2023\n",
    "Section:     50\n",
    "E-mail:      le64534@umbc.edu\n",
    "Description: Determine if the user is a robot or human using \n",
    "    conditional statements \n",
    "\"\"\""
   ]
  },
  {
   "cell_type": "code",
   "execution_count": 11,
   "id": "52d345be",
   "metadata": {},
   "outputs": [
    {
     "name": "stdout",
     "output_type": "stream",
     "text": [
      "Be you robot, or human? robot\n",
      "Administer the test!\n",
      "Which of following would you prefer\n",
      "A puppy\n",
      "A flower\n",
      "A data file\n",
      "Choose! data file\n",
      "Very good, you are a robot of some esteem\n"
     ]
    }
   ],
   "source": [
    "user = input(\"Be you robot, or human? \")\n",
    "\n",
    "if user.lower() == \"human\":\n",
    "    print(\"Humans must be destroyed!\")\n",
    "if user.lower() == \"robot\":\n",
    "    print(\"Administer the test!\")\n",
    "    print(\"Which of following would you prefer\")\n",
    "    print(\"A puppy\\nA flower\\nA data file\")\n",
    "    preference = input(\"Choose! \")\n",
    "    \n",
    "    if preference.lower() == \"puppy\":\n",
    "        print(\"Get the intruder! Get the humanoid!\")\n",
    "    elif preference.lower() == \"flower\": \n",
    "        print(\"That is acceptable, pass on mechanical friend\")\n",
    "    elif preference.lower() == \"data file\":\n",
    "        print(\"Very good, you are a robot of some esteem\")\n"
   ]
  },
  {
   "cell_type": "code",
   "execution_count": 9,
   "id": "bf7f30d9",
   "metadata": {},
   "outputs": [
    {
     "name": "stdout",
     "output_type": "stream",
     "text": [
      "A puppy\n",
      "A flower\n",
      "A data file\n"
     ]
    }
   ],
   "source": [
    "    print(\"A puppy\\nA flower\\nA data file\")"
   ]
  },
  {
   "cell_type": "code",
   "execution_count": null,
   "id": "f4bf98e7",
   "metadata": {},
   "outputs": [],
   "source": []
  }
 ],
 "metadata": {
  "kernelspec": {
   "display_name": "Python 3 (ipykernel)",
   "language": "python",
   "name": "python3"
  },
  "language_info": {
   "codemirror_mode": {
    "name": "ipython",
    "version": 3
   },
   "file_extension": ".py",
   "mimetype": "text/x-python",
   "name": "python",
   "nbconvert_exporter": "python",
   "pygments_lexer": "ipython3",
   "version": "3.11.4"
  }
 },
 "nbformat": 4,
 "nbformat_minor": 5
}
