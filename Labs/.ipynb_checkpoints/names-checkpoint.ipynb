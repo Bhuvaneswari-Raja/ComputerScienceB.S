{
 "cells": [
  {
   "cell_type": "code",
   "execution_count": 8,
   "id": "0c75c48a",
   "metadata": {},
   "outputs": [],
   "source": [
    "def sum_list (numbers):\n",
    "    \"\"\"\n",
    "    Sums a list of integers\n",
    "    :param numbers: a list of integers\n",
    "    :return: the sum of the integers in numbers\n",
    "    \"\"\"\n",
    "    sum_of_list = 0\n",
    "    for x in numbers:\n",
    "        sum_of_list += x\n",
    "    return sum_of_list"
   ]
  },
  {
   "cell_type": "code",
   "execution_count": 9,
   "id": "4f88acf9",
   "metadata": {},
   "outputs": [],
   "source": [
    "def get_string_lengths(strings):\n",
    "    \"\"\"\n",
    "    Given a list of strings, return a list of integers representing\n",
    "    the lengths of the input strings\n",
    "    :param strings: a list of strings\n",
    "    :return: a list of integers representing the lengths of the input strings\n",
    "    \"\"\"\n",
    "    string_length_list = list()\n",
    "    for x in strings:\n",
    "        string_length_list.append(len(x))\n",
    "    return string_length_list"
   ]
  },
  {
   "cell_type": "code",
   "execution_count": 10,
   "id": "cf4614cb",
   "metadata": {},
   "outputs": [],
   "source": [
    "def get_names():\n",
    "    \"\"\"\n",
    "    Asks the user for a list of names\n",
    "    :return: a list of strings for the names the user entered\n",
    "    \"\"\"\n",
    "    name_list = list()\n",
    "    for x in range(10):\n",
    "        user_name = input(\"Enter a name: \")\n",
    "        name_list.append(user_name)\n",
    "    return name_list\n"
   ]
  },
  {
   "cell_type": "code",
   "execution_count": null,
   "id": "2135a7fe",
   "metadata": {},
   "outputs": [],
   "source": [
    "if __name__ == '__main__':\n",
    "    kitties = [\n",
    "        \"Jules\",\n",
    "        \"Stubby\",\n",
    "        \"Tybalt\",\n",
    "        \"Scooter\",\n",
    "        \"KC\",\n",
    "        \"Garfield\",\n",
    "        \"Bucky\"\n",
    "    ]\n",
    "\n",
    "    list_of_len_kitties = get_string_lengths(kitties)\n",
    "    sum_of_kitties = sum_list(list_of_len_kitties)\n",
    "    print(\"sum of lengths of the string in kitties =\",sum_of_kitties)\n",
    "\n",
    "    # print the sum of the lengths of the strings in kitties\n",
    "\n",
    "    puppers = [\n",
    "        \"Charlie\",\n",
    "        \"Chuck\",\n",
    "        \"Chuckadero\",\n",
    "        \"Char\",\n",
    "        \"Charmander\",\n",
    "        \"Charles, Lord of Hearts, King of Snuggles\"\n",
    "    ]\n",
    "\n",
    "    # prints the sum of the lengths of the strings in puppers\n",
    "    list_of_len_puppers = get_string_lengths(puppers)\n",
    "    sum_of_puppers = sum_list(list_of_len_puppers)\n",
    "    print(\"sum of lengths of the string in kitties =\",sum_of_puppers)\n",
    "    \n",
    "    list_names = get_names()\n",
    "    print(list_names)\n",
    "\n"
   ]
  },
  {
   "cell_type": "code",
   "execution_count": null,
   "id": "8ca1b54a",
   "metadata": {},
   "outputs": [],
   "source": []
  }
 ],
 "metadata": {
  "kernelspec": {
   "display_name": "Python 3 (ipykernel)",
   "language": "python",
   "name": "python3"
  },
  "language_info": {
   "codemirror_mode": {
    "name": "ipython",
    "version": 3
   },
   "file_extension": ".py",
   "mimetype": "text/x-python",
   "name": "python",
   "nbconvert_exporter": "python",
   "pygments_lexer": "ipython3",
   "version": "3.11.4"
  }
 },
 "nbformat": 4,
 "nbformat_minor": 5
}
