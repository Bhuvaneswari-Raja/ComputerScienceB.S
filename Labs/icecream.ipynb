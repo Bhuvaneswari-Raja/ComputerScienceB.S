{
 "cells": [
  {
   "cell_type": "code",
   "execution_count": 20,
   "id": "fe661b18",
   "metadata": {},
   "outputs": [
    {
     "data": {
      "text/plain": [
       "'\\nFile:         icecream.py\\nAuthor:       Pooja Rajamanikandan\\nDate:         09/28/2023\\nSection:      54\\nE-mail:       le64534@umbc.edu\\nDescription:  The program will interate through a list of ice cream \\n    flavours and print which topping go well with that flavour. It will\\n    also display a special message for strawberry ice cream\\n'"
      ]
     },
     "execution_count": 20,
     "metadata": {},
     "output_type": "execute_result"
    }
   ],
   "source": [
    "\"\"\"\n",
    "File:         icecream.py\n",
    "Author:       Pooja Rajamanikandan\n",
    "Date:         09/28/2023\n",
    "Section:      54\n",
    "E-mail:       le64534@umbc.edu\n",
    "Description:  The program will interate through a list of ice cream \n",
    "    flavours and print which topping go well with that flavour. It will\n",
    "    also display a special message for strawberry ice cream\n",
    "\"\"\"\n"
   ]
  },
  {
   "cell_type": "code",
   "execution_count": 21,
   "id": "2e495a99",
   "metadata": {},
   "outputs": [
    {
     "name": "stdout",
     "output_type": "stream",
     "text": [
      "vanilla\n",
      "strawberry\n",
      "chocolate\n",
      "---------------------------\n",
      "vanilla is tasty with caramel\n",
      "vanilla is tasty with marshmallow\n",
      "vanilla is tasty with gummi bears\n",
      "strawberry is fine on its own!\n",
      "chocolate is tasty with caramel\n",
      "chocolate is tasty with marshmallow\n",
      "chocolate is tasty with gummi bears\n"
     ]
    }
   ],
   "source": [
    "if __name__ == \"__main__\":\n",
    "    ice_cream_flavor = [\"vanilla\", \"strawberry\", \"chocolate\"]\n",
    "    toppings = [\"caramel\", \"marshmallow\", \"gummi bears\"]\n",
    "    \n",
    "    for x in ice_cream_flavor:\n",
    "        print(x)\n",
    "    print(\"---------------------------\")\n",
    "    for x in ice_cream_flavor:\n",
    "        if x == \"strawberry\":\n",
    "            print(x,\"is fine on its own!\")\n",
    "        else:\n",
    "            for y in toppings:\n",
    "                print(x,\"is tasty with\",y)"
   ]
  },
  {
   "cell_type": "code",
   "execution_count": null,
   "id": "949c9fd1",
   "metadata": {},
   "outputs": [],
   "source": []
  }
 ],
 "metadata": {
  "kernelspec": {
   "display_name": "Python 3 (ipykernel)",
   "language": "python",
   "name": "python3"
  },
  "language_info": {
   "codemirror_mode": {
    "name": "ipython",
    "version": 3
   },
   "file_extension": ".py",
   "mimetype": "text/x-python",
   "name": "python",
   "nbconvert_exporter": "python",
   "pygments_lexer": "ipython3",
   "version": "3.11.4"
  }
 },
 "nbformat": 4,
 "nbformat_minor": 5
}
