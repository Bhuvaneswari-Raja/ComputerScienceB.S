{
 "cells": [
  {
   "cell_type": "code",
   "execution_count": null,
   "id": "6fc72b75",
   "metadata": {},
   "outputs": [],
   "source": [
    "player_1_name = input(\"Enter player 1 name: \")\n",
    "player_2_name = input(\"Enter player 2 name: \")"
   ]
  }
 ],
 "metadata": {
  "kernelspec": {
   "display_name": "Python 3 (ipykernel)",
   "language": "python",
   "name": "python3"
  },
  "language_info": {
   "codemirror_mode": {
    "name": "ipython",
    "version": 3
   },
   "file_extension": ".py",
   "mimetype": "text/x-python",
   "name": "python",
   "nbconvert_exporter": "python",
   "pygments_lexer": "ipython3",
   "version": "3.11.4"
  }
 },
 "nbformat": 4,
 "nbformat_minor": 5
}
