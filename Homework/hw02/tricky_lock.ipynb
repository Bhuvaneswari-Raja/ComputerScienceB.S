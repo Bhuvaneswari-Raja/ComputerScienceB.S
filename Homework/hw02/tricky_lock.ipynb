{
 "cells": [
  {
   "cell_type": "code",
   "execution_count": 1,
   "id": "b7771b58",
   "metadata": {},
   "outputs": [
    {
     "data": {
      "text/plain": [
       "'\\nFile:        leap_year.py\\nAuthor:      Pooja Rajamanikandan\\nDate:        09/18/2023\\nSection:     50\\nE-mail:      le64534@umbc.edu\\nDescription: Determines if the year the user inputs is a leap year\\n'"
      ]
     },
     "execution_count": 1,
     "metadata": {},
     "output_type": "execute_result"
    }
   ],
   "source": [
    "\"\"\"\n",
    "File:        leap_year.py\n",
    "Author:      Pooja Rajamanikandan\n",
    "Date:        09/18/2023\n",
    "Section:     50\n",
    "E-mail:      le64534@umbc.edu\n",
    "Description: In order to open the lock, the user has to input two numbers\n",
    "    that have the sum of 36 and the correct switch combination \n",
    "\"\"\""
   ]
  },
  {
   "cell_type": "code",
   "execution_count": 8,
   "id": "16d36a03",
   "metadata": {},
   "outputs": [
    {
     "name": "stdout",
     "output_type": "stream",
     "text": [
      "What is the first number in the combination lock? 89\n",
      "What is the second number in the combination lock? 26\n",
      "What is the position of the first switch (up/down)? down\n",
      "What is the position of the second switch (up/down)? up\n",
      "What is the position of the third switch (up/down)? up\n",
      "The lock clanks but does not open.\n"
     ]
    }
   ],
   "source": [
    "first_num  = int(input(\"What is the first number in the combination lock? \"))\n",
    "second_num = int(input(\"What is the second number in the combination lock? \"))\n",
    "first_switch = input(\"What is the position of the first switch (up/down)? \")\n",
    "second_switch = input(\"What is the position of the second switch (up/down)? \")\n",
    "third_switch = input(\"What is the position of the third switch (up/down)? \")\n",
    "\n",
    "sum = first_num + second_num\n",
    "#locker_movement = True\n",
    "\n",
    "if first_switch == \"up\" and (second_switch == \"up\" or third_switch == \"up\"):\n",
    "    locker_movement = True    \n",
    "elif second_switch == \"up\" and (first_switch == \"up\" or third_switch == \"up\"):\n",
    "    locker_movement = True    \n",
    "elif third_switch == \"up\" and (second_switch == \"up\" or first_switch == \"up\"):\n",
    "    locker_movement = True    \n",
    "else:\n",
    "    locker_movement = False\n",
    "    \n",
    "if sum == 36 and locker_movement:\n",
    "    print(\"The lock opens, you gain access to the treasure.\")\n",
    "elif sum == 36 or locker_movement:\n",
    "    print(\"The lock clanks but does not open.\")\n",
    "else:\n",
    "    print(\"The lock does not even budge, try again.\")\n",
    "    "
   ]
  },
  {
   "cell_type": "code",
   "execution_count": null,
   "id": "a962966d",
   "metadata": {},
   "outputs": [],
   "source": []
  }
 ],
 "metadata": {
  "kernelspec": {
   "display_name": "Python 3 (ipykernel)",
   "language": "python",
   "name": "python3"
  },
  "language_info": {
   "codemirror_mode": {
    "name": "ipython",
    "version": 3
   },
   "file_extension": ".py",
   "mimetype": "text/x-python",
   "name": "python",
   "nbconvert_exporter": "python",
   "pygments_lexer": "ipython3",
   "version": "3.11.4"
  }
 },
 "nbformat": 4,
 "nbformat_minor": 5
}
