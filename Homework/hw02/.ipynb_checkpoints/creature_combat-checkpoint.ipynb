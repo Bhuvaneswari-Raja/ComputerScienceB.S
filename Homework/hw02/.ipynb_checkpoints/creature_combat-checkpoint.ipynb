{
 "cells": [
  {
   "cell_type": "code",
   "execution_count": 1,
   "id": "ecc61fba",
   "metadata": {},
   "outputs": [
    {
     "data": {
      "text/plain": [
       "'\\nFile:        creature_combat.py\\nAuthor:      Pooja Rajamanikandan\\nDate:        09/18/2023\\nSection:     50\\nE-mail:      le64534@umbc.edu\\nDescription: \\n'"
      ]
     },
     "execution_count": 1,
     "metadata": {},
     "output_type": "execute_result"
    }
   ],
   "source": [
    "\"\"\"\n",
    "File:        creature_combat.py\n",
    "Author:      Pooja Rajamanikandan\n",
    "Date:        09/18/2023\n",
    "Section:     50\n",
    "E-mail:      le64534@umbc.edu\n",
    "Description: \n",
    "\"\"\"\n"
   ]
  },
  {
   "cell_type": "code",
   "execution_count": 2,
   "id": "7f07a86d",
   "metadata": {},
   "outputs": [
    {
     "name": "stdout",
     "output_type": "stream",
     "text": [
      "What is the name of the first creature? Anthony\n",
      "What is the power of the first creature? 10\n",
      "What is the toughness of the first creature? 6\n",
      "What is the name of the second creature? Newton\n",
      "What is the power of the second creature? 8\n",
      "What is the toughness of the second creature? 15\n",
      "The first creature now has ({}, {}).format(creature_1_power, creature_1_stat) \n",
      "The second creature now has ({}, {}).format(creature_2_power, creature_2_stat) \n",
      "Anthony has died, Newton wins\n"
     ]
    }
   ],
   "source": [
    "creature_1_name = input(\"What is the name of the first creature? \")\n",
    "creature_1_power = int(input(\"What is the power of the first creature? \"))\n",
    "creature_1_toughness = int(input(\"What is the toughness of the first creature? \"))\n",
    "creature_2_name = input(\"What is the name of the second creature? \")\n",
    "creature_2_power = int(input(\"What is the power of the second creature? \"))\n",
    "creature_2_toughness = int(input(\"What is the toughness of the second creature? \"))\n",
    "\n",
    "creature_1_stat = creature_1_toughness - creature_2_power\n",
    "creature_2_stat = creature_2_toughness - creature_1_power\n",
    "\n",
    "print(\"The first creature now has ({}, {})\"format(creature_1_power, creature_1_stat))\n",
    "print(\"The second creature now has ({}, {})\".format(creature_2_power, creature_2_stat))\n",
    "\n",
    "if creature_1_stat > creature_2_stat:\n",
    "    print(\"{} has died, {} wins\".format(creature_2_name,creature_1_name))\n",
    "elif creature_1_stat < creature_2_stat:\n",
    "    print(\"{} has died, {} wins\".format(creature_1_name,creature_2_name))\n",
    "elif creature_1_stat <= 0 and creature_2_stat <= 0:\n",
    "    print(\"Both creatures die in mutual combat\")\n",
    "else:\n",
    "    print(\"Both creatures live to fight another day\")\n"
   ]
  },
  {
   "cell_type": "code",
   "execution_count": null,
   "id": "3f0be0ae",
   "metadata": {},
   "outputs": [],
   "source": []
  },
  {
   "cell_type": "code",
   "execution_count": null,
   "id": "1425982b",
   "metadata": {},
   "outputs": [],
   "source": []
  },
  {
   "cell_type": "code",
   "execution_count": null,
   "id": "d99559d0",
   "metadata": {},
   "outputs": [],
   "source": []
  }
 ],
 "metadata": {
  "kernelspec": {
   "display_name": "Python 3 (ipykernel)",
   "language": "python",
   "name": "python3"
  },
  "language_info": {
   "codemirror_mode": {
    "name": "ipython",
    "version": 3
   },
   "file_extension": ".py",
   "mimetype": "text/x-python",
   "name": "python",
   "nbconvert_exporter": "python",
   "pygments_lexer": "ipython3",
   "version": "3.11.4"
  }
 },
 "nbformat": 4,
 "nbformat_minor": 5
}
