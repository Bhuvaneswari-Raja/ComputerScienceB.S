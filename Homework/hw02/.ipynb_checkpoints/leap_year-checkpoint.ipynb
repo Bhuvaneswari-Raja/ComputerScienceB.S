{
 "cells": [
  {
   "cell_type": "code",
   "execution_count": 13,
   "id": "cd109f9d",
   "metadata": {},
   "outputs": [
    {
     "data": {
      "text/plain": [
       "'\\nFile:        leap_year.py\\nAuthor:      Pooja Rajamanikandan\\nDate:        09/18/2023\\nSection:     50\\nE-mail:      le64534@umbc.edu\\nDescription: Determines if the year the user inputs is a leap year\\n'"
      ]
     },
     "execution_count": 13,
     "metadata": {},
     "output_type": "execute_result"
    }
   ],
   "source": [
    "\"\"\"\n",
    "File:        leap_year.py\n",
    "Author:      Pooja Rajamanikandan\n",
    "Date:        09/18/2023\n",
    "Section:     50\n",
    "E-mail:      le64534@umbc.edu\n",
    "Description: Determines if the year the user inputs is a leap year\n",
    "\"\"\""
   ]
  },
  {
   "cell_type": "code",
   "execution_count": 35,
   "id": "2f6fe20b",
   "metadata": {},
   "outputs": [
    {
     "name": "stdout",
     "output_type": "stream",
     "text": [
      "Enter a year: 2004\n"
     ]
    }
   ],
   "source": [
    "year = int(input(\"Enter a year: \"))\n",
    "\n",
    "\n",
    "if year % 4 == 0:\n",
    "    print(\"Divisible by 4\")\n",
    "    if year % 100 == 0:\n",
    "        print(\"Divisible by 100\")\n",
    "        if year % 400 == 0:\n",
    "            print(\"Divisible by 400\")\n",
    "            print(\"It is a leap year\")\n",
    "        else:\n",
    "            print(\"Not Divisible by 400\")\n",
    "            print(\"It is not a leap year\")    \n",
    "    ''''\n",
    "    if year % 400 == 0:\n",
    "        #print(\"It is a not leap year\")\n",
    "        print(\"It is a leap year\")\n",
    "    if year % 100 == 0:\n",
    "        print(\"It is not a leap year\")\n",
    "    else:\n",
    "        print(\"It is a leap year\")\n",
    "    '''\n",
    "else:\n",
    "    print(\"Not Divisible by anything\")\n",
    "    print(\"It is not a leap year\")\n"
   ]
  },
  {
   "cell_type": "code",
   "execution_count": null,
   "id": "571a30d1",
   "metadata": {},
   "outputs": [],
   "source": []
  }
 ],
 "metadata": {
  "kernelspec": {
   "display_name": "Python 3 (ipykernel)",
   "language": "python",
   "name": "python3"
  },
  "language_info": {
   "codemirror_mode": {
    "name": "ipython",
    "version": 3
   },
   "file_extension": ".py",
   "mimetype": "text/x-python",
   "name": "python",
   "nbconvert_exporter": "python",
   "pygments_lexer": "ipython3",
   "version": "3.11.4"
  }
 },
 "nbformat": 4,
 "nbformat_minor": 5
}
