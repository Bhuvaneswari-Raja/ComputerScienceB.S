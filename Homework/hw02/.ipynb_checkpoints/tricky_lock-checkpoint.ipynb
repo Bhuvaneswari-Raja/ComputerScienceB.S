{
 "cells": [
  {
   "cell_type": "code",
   "execution_count": 1,
   "id": "ad54bece",
   "metadata": {},
   "outputs": [
    {
     "data": {
      "text/plain": [
       "'\\nFile:        leap_year.py\\nAuthor:      Pooja Rajamanikandan\\nDate:        09/18/2023\\nSection:     50\\nE-mail:      le64534@umbc.edu\\nDescription: Determines if the year the user inputs is a leap year\\n'"
      ]
     },
     "execution_count": 1,
     "metadata": {},
     "output_type": "execute_result"
    }
   ],
   "source": [
    "\"\"\"\n",
    "File:        leap_year.py\n",
    "Author:      Pooja Rajamanikandan\n",
    "Date:        09/18/2023\n",
    "Section:     50\n",
    "E-mail:      le64534@umbc.edu\n",
    "Description: User inputs numbers between 1-25 to open their locker\n",
    "\"\"\""
   ]
  },
  {
   "cell_type": "code",
   "execution_count": 7,
   "id": "c200a3ad",
   "metadata": {},
   "outputs": [
    {
     "name": "stdout",
     "output_type": "stream",
     "text": [
      "What is the first number in the combination lock? 59\n",
      "What is the second number in the combination lock? 65\n",
      "What is the position of the first switch (up/down)? down\n",
      "What is the position of the second switch (up/down)? dow\n",
      "What is the position of the third switch (up/down)? up\n",
      "The lock does not even budge, try again.\n"
     ]
    }
   ],
   "source": [
    "first_num  = int(input(\"What is the first number in the combination lock? \"))\n",
    "second_num = int(input(\"What is the second number in the combination lock? \"))\n",
    "first_switch = input(\"What is the position of the first switch (up/down)? \")\n",
    "second_switch = input(\"What is the position of the second switch (up/down)? \")\n",
    "third_switch = input(\"What is the position of the third switch (up/down)? \")\n",
    "\n",
    "sum = first_num + second_num\n",
    "#locker_movement = True\n",
    "\n",
    "if first_switch == \"up\" and (second_switch == \"up\" or third_switch == \"up\"):\n",
    "    locker_movement = True    \n",
    "elif second_switch == \"up\" and (first_switch == \"up\" or third_switch == \"up\"):\n",
    "    locker_movement = True    \n",
    "elif third_switch == \"up\" and (second_switch == \"up\" or first_switch == \"up\"):\n",
    "    locker_movement = True    \n",
    "else:\n",
    "    locker_movement = False\n",
    "    \n",
    "if sum == 36 and locker_movement:\n",
    "    print(\"The lock opens, you gain access to the treasure.\")\n",
    "elif sum == 36 or locker_movement:\n",
    "    print(\"The lock clanks but does not open.\")\n",
    "else:\n",
    "    print(\"The lock does not even budge, try again.\")\n",
    "    "
   ]
  },
  {
   "cell_type": "code",
   "execution_count": null,
   "id": "ef873671",
   "metadata": {},
   "outputs": [],
   "source": []
  }
 ],
 "metadata": {
  "kernelspec": {
   "display_name": "Python 3 (ipykernel)",
   "language": "python",
   "name": "python3"
  },
  "language_info": {
   "codemirror_mode": {
    "name": "ipython",
    "version": 3
   },
   "file_extension": ".py",
   "mimetype": "text/x-python",
   "name": "python",
   "nbconvert_exporter": "python",
   "pygments_lexer": "ipython3",
   "version": "3.11.4"
  }
 },
 "nbformat": 4,
 "nbformat_minor": 5
}
