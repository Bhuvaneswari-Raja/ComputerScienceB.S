{
 "cells": [
  {
   "cell_type": "code",
   "execution_count": 1,
   "id": "bfdd72de",
   "metadata": {},
   "outputs": [
    {
     "data": {
      "text/plain": [
       "'\\nFile:        creature_combat.py\\nAuthor:      Pooja Rajamanikandan\\nDate:        09/18/2023\\nSection:     50\\nE-mail:      le64534@umbc.edu\\nDescription: A guessing game to detremine which \"Lord of the Rings\" character the user is.\\n'"
      ]
     },
     "execution_count": 1,
     "metadata": {},
     "output_type": "execute_result"
    }
   ],
   "source": [
    "\"\"\"\n",
    "File:        gandalf.py\n",
    "Author:      Pooja Rajamanikandan\n",
    "Date:        09/18/2023\n",
    "Section:     50\n",
    "E-mail:      le64534@umbc.edu\n",
    "Description: A guessing game to detremine which \"Lord of the Rings\" character the user is.\n",
    "\"\"\"\n"
   ]
  },
  {
   "cell_type": "code",
   "execution_count": 6,
   "id": "46b0fe1c",
   "metadata": {},
   "outputs": [
    {
     "name": "stdout",
     "output_type": "stream",
     "text": [
      "Which race are you? (human/dwarf/elf/maiar/hobbit) human\n",
      "Are you the King of Gondor?  yes\n",
      "You are Aragorn son of Arathorn\n"
     ]
    }
   ],
   "source": [
    "character_race = input(\"Which race are you? (human/dwarf/elf/maiar/hobbit) \")\n",
    "\n",
    "if character_race.lower() == \"human\":\n",
    "    king_of_gondor = input(\"Are you the King of Gondor?  \")\n",
    "    \n",
    "    if king_of_gondor.lower() == \"yes\":\n",
    "        print(\"You are Aragorn son of Arathorn\")\n",
    "    else:\n",
    "        ring = input(\"Did you try to take the ring from Frodo? \")\n",
    "        if ring.lower() == \"yes\":\n",
    "            print(\"You are Boromir\")\n",
    "        else:\n",
    "            print(\"You are Theoden\")\n",
    "\n",
    "elif character_race.lower() == \"elf\":\n",
    "    matrix = input(\"Were you in the matrix? \")\n",
    "    if matrix.lower() == \"yes\":\n",
    "        print(\"You're Elrond\")\n",
    "    else:\n",
    "        print(\"You're Legolas\")\n",
    "        \n",
    "elif character_race.lower() == \"maiar\":\n",
    "    good_or_evil = input(\"Are you good or evil? \")\n",
    "    \n",
    "    if good_or_evil.lower() == \"good\":\n",
    "        print(\"You are Gandalf\")\n",
    "    else:\n",
    "        one_ring = input(\"Did you forge the One Ring? \")\n",
    "        if one_ring.lower() == \"yes\":\n",
    "            print(\"You are Sauron\")\n",
    "        else: \n",
    "            print(\"You are Saruman\")\n",
    "            \n",
    "elif character_race.lower() == \"hobbit\":\n",
    "    carry_ring = input(\"Do you carry the One Ring? \")\n",
    "    if carry_ring.lower() == \"yes\":\n",
    "        print(\"You are Fordo Baggins\")\n",
    "    else:\n",
    "        hobbit_gardener = input(\"Are yoy a gardener? \")\n",
    "        if hobbit_gardener.lower() == \"yes\":\n",
    "            print(\"You're Samwise\")\n",
    "        else:\n",
    "            print(\"You are either Merry or Pippin\")\n",
    "            \n",
    "elif character_race.lower() == \"dwarf\":\n",
    "    print(\"You are Gimil son of Gloin\")\n",
    "\n",
    "else:\n",
    "    print(\"You are an Orc, sorry about that\")\n",
    "\n",
    "        "
   ]
  },
  {
   "cell_type": "code",
   "execution_count": null,
   "id": "cbeafe89",
   "metadata": {},
   "outputs": [],
   "source": []
  },
  {
   "cell_type": "code",
   "execution_count": null,
   "id": "03b037e0",
   "metadata": {},
   "outputs": [],
   "source": []
  }
 ],
 "metadata": {
  "kernelspec": {
   "display_name": "Python 3 (ipykernel)",
   "language": "python",
   "name": "python3"
  },
  "language_info": {
   "codemirror_mode": {
    "name": "ipython",
    "version": 3
   },
   "file_extension": ".py",
   "mimetype": "text/x-python",
   "name": "python",
   "nbconvert_exporter": "python",
   "pygments_lexer": "ipython3",
   "version": "3.11.4"
  }
 },
 "nbformat": 4,
 "nbformat_minor": 5
}
