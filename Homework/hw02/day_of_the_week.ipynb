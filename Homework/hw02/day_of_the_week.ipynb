{
 "cells": [
  {
   "cell_type": "code",
   "execution_count": 1,
   "id": "4e89363b",
   "metadata": {},
   "outputs": [
    {
     "data": {
      "text/plain": [
       "'\\nFile:        leap_year.py\\nAuthor:      Pooja Rajamanikandan\\nDate:        09/18/2023\\nSection:     50\\nE-mail:      le64534@umbc.edu\\nDescription: Ask the user for a numerical day in September 2023 and\\n    tell them what day of the week it was \\n'"
      ]
     },
     "execution_count": 1,
     "metadata": {},
     "output_type": "execute_result"
    }
   ],
   "source": [
    "\"\"\"\n",
    "File:        leap_year.py\n",
    "Author:      Pooja Rajamanikandan\n",
    "Date:        09/18/2023\n",
    "Section:     50\n",
    "E-mail:      le64534@umbc.edu\n",
    "Description: Ask the user for a numerical day in September 2023 and\n",
    "    tell them what day of the week it was \n",
    "\"\"\""
   ]
  },
  {
   "cell_type": "code",
   "execution_count": 7,
   "id": "2b35d86e",
   "metadata": {},
   "outputs": [
    {
     "name": "stdout",
     "output_type": "stream",
     "text": [
      "What day of September 2023 is it? 5656\n",
      "That day 5656 is out of range, you must enter a number between 1 and 30\n"
     ]
    }
   ],
   "source": [
    "num_date = int(input(\"What day of September 2023 is it? \"))\n",
    "\n",
    "if num_date == 1 or num_date == 21:\n",
    "    suffix = \"st\"\n",
    "elif num_date == 2 or num_date == 22:\n",
    "    suffix = \"nd\"\n",
    "elif num_date == 3 or num_date == 23:\n",
    "    suffix = \"rd\"\n",
    "else:\n",
    "    suffix = \"th\"\n",
    "\n",
    "if num_date == 1 or num_date == 8 or num_date == 15 or num_date == 22 or num_date == 29:\n",
    "    print(\"September {}\".format(num_date)+ suffix +\" is a Friday\")\n",
    "elif num_date == 2 or num_date == 9 or num_date == 16 or num_date == 21 or num_date == 28:\n",
    "    print(\"September {}\".format(num_date)+ suffix +\" is a Saturday\")\n",
    "elif num_date == 3 or num_date == 10 or num_date == 17 or num_date == 24:\n",
    "    print(\"September {}\".format(num_date)+ suffix +\" is a Sunday\")\n",
    "elif num_date == 4 or num_date == 11 or num_date == 18 or num_date == 25:\n",
    "    print(\"September {}\".format(num_date)+ suffix +\" is a Monday\")\n",
    "elif num_date == 5 or num_date == 12 or num_date == 19 or num_date == 26:\n",
    "    print(\"September {}\".format(num_date)+ suffix +\" is a Tuesday\")\n",
    "elif num_date == 6 or num_date == 13 or num_date == 20 or num_date == 27:\n",
    "    print(\"September {}\".format(num_date)+ suffix +\" is a Wednesday\")\n",
    "elif num_date == 7 or num_date == 14 or num_date == 21 or num_date == 28:\n",
    "    print(\"September {}\".format(num_date)+ suffix +\" is a Thursday\")\n",
    "else:\n",
    "    print(\"That day\",num_date,\"is out of range, you must enter a number between 1 and 30\")\n",
    "\n"
   ]
  },
  {
   "cell_type": "code",
   "execution_count": null,
   "id": "9ef06f88",
   "metadata": {},
   "outputs": [],
   "source": [
    "print(16,\"th\")"
   ]
  },
  {
   "cell_type": "code",
   "execution_count": null,
   "id": "bb6c8544",
   "metadata": {},
   "outputs": [],
   "source": [
    "num_date = int(input(\"What day of September 2023 is it? \"))\n",
    "\n",
    "print(\"What is happening?  \",num_date == 2 or 9 )\n",
    "print(num_date)"
   ]
  },
  {
   "cell_type": "code",
   "execution_count": null,
   "id": "d1fba096",
   "metadata": {},
   "outputs": [],
   "source": []
  },
  {
   "cell_type": "code",
   "execution_count": null,
   "id": "ba6a38b2",
   "metadata": {},
   "outputs": [],
   "source": []
  }
 ],
 "metadata": {
  "kernelspec": {
   "display_name": "Python 3 (ipykernel)",
   "language": "python",
   "name": "python3"
  },
  "language_info": {
   "codemirror_mode": {
    "name": "ipython",
    "version": 3
   },
   "file_extension": ".py",
   "mimetype": "text/x-python",
   "name": "python",
   "nbconvert_exporter": "python",
   "pygments_lexer": "ipython3",
   "version": "3.11.4"
  }
 },
 "nbformat": 4,
 "nbformat_minor": 5
}
