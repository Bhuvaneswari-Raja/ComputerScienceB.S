{
 "cells": [
  {
   "cell_type": "code",
   "execution_count": 1,
   "id": "3b0ee850",
   "metadata": {},
   "outputs": [
    {
     "data": {
      "text/plain": [
       "'\\nFile:    FILENAME.py\\nAuthor:  Pooja Rajamanikandan\\nDate:    THE DATE\\nSection: 54\\nE-mail:  le64534@umbc.edu\\nDescription: DESCRIPTION OF WHAT THE PROGRAM DOES\\n'"
      ]
     },
     "execution_count": 1,
     "metadata": {},
     "output_type": "execute_result"
    }
   ],
   "source": [
    "\"\"\"\n",
    "File:    checkerboard.py\n",
    "Author:  Pooja Rajamanikandan\n",
    "Date:    10/16/2023\n",
    "Section: 54\n",
    "E-mail:  le64534@umbc.edu\n",
    "Description: The program will draw a checkerboard pattern using the symbols the user inputs\n",
    "\"\"\""
   ]
  },
  {
   "cell_type": "code",
   "execution_count": 16,
   "id": "def03379",
   "metadata": {},
   "outputs": [
    {
     "name": "stdout",
     "output_type": "stream",
     "text": [
      "What size do you want? 3\n",
      "What symbols do you want? : ~\n",
      ":~:\n",
      "~:~\n",
      ":~:\n"
     ]
    }
   ],
   "source": [
    "def checkerboard(size, symbol_1, symbol_2):\n",
    "    switch = 1\n",
    "    #Outer loop for the columns \n",
    "    for c in range(size):\n",
    "        #Inner loop for the rows\n",
    "        for r in range(size):\n",
    "            #Alternates between the symbols\n",
    "            if switch == 1:\n",
    "                print(symbol_1,end=\"\")\n",
    "                switch = 2\n",
    "            elif switch == 2:\n",
    "                print(symbol_2,end=\"\")\n",
    "                switch = 1\n",
    "        print()\n",
    "\n",
    "if __name__ == \"__main__\":\n",
    "    size = int(input(\"What size do you want? \"))\n",
    "    symbols = input(\"What symbols do you want? \")\n",
    "    \n",
    "    temp_list = symbols.split()\n",
    "    checkerboard(size, temp_list[0], temp_list[1])\n",
    "    "
   ]
  },
  {
   "cell_type": "code",
   "execution_count": 4,
   "id": "8c9c9ff3",
   "metadata": {},
   "outputs": [
    {
     "name": "stdout",
     "output_type": "stream",
     "text": [
      "1\n",
      "2\n",
      "3\n"
     ]
    }
   ],
   "source": [
    "for x in range(1,3+1):\n",
    "    print(x)"
   ]
  },
  {
   "cell_type": "code",
   "execution_count": null,
   "id": "93d41501",
   "metadata": {},
   "outputs": [],
   "source": []
  }
 ],
 "metadata": {
  "kernelspec": {
   "display_name": "Python 3 (ipykernel)",
   "language": "python",
   "name": "python3"
  },
  "language_info": {
   "codemirror_mode": {
    "name": "ipython",
    "version": 3
   },
   "file_extension": ".py",
   "mimetype": "text/x-python",
   "name": "python",
   "nbconvert_exporter": "python",
   "pygments_lexer": "ipython3",
   "version": "3.11.4"
  }
 },
 "nbformat": 4,
 "nbformat_minor": 5
}
