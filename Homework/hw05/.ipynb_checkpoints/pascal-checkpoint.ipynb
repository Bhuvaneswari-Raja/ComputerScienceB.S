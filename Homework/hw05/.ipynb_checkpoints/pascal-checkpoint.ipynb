{
 "cells": [
  {
   "cell_type": "code",
   "execution_count": 1,
   "id": "2d32409f",
   "metadata": {},
   "outputs": [
    {
     "data": {
      "text/plain": [
       "'\\nFile:    pascal.py\\nAuthor:  Pooja Rajamanikandan\\nDate:    10/16/2023\\nSection: 54\\nE-mail:  le64534@umbc.edu\\nDescription: \\n'"
      ]
     },
     "execution_count": 1,
     "metadata": {},
     "output_type": "execute_result"
    }
   ],
   "source": [
    "\"\"\"\n",
    "File:    pascal.py\n",
    "Author:  Pooja Rajamanikandan\n",
    "Date:    10/16/2023\n",
    "Section: 54\n",
    "E-mail:  le64534@umbc.edu\n",
    "Description: This program takes a list, and computes the next level of \n",
    "    Pascal's triangle based on the previous level\n",
    "\"\"\""
   ]
  },
  {
   "cell_type": "code",
   "execution_count": null,
   "id": "852e6f4d",
   "metadata": {
    "scrolled": true
   },
   "outputs": [
    {
     "name": "stdout",
     "output_type": "stream",
     "text": [
      "What values do you want to run next_level on? 123\n",
      "[1, 3, 5, 1]\n",
      "What values do you want to run next_level on? 141\n",
      "[1, 5, 5, 1]\n",
      "What values do you want to run next_level on? 198421\n",
      "[1, 10, 17, 12, 6, 3, 1]\n"
     ]
    }
   ],
   "source": [
    "def next_level(level):\n",
    "    new_list = [1]\n",
    "    \n",
    "    for x in range(1,len(level)):\n",
    "        # Makes sure index doesn't go out of bounds \n",
    "        if x+1 > len(level):\n",
    "            return new_list\n",
    "        new_list.append(level[x-1] + level[x])\n",
    "    # Sets the last index to 1    \n",
    "    new_list.append(1)\n",
    "        \n",
    "    return new_list\n",
    "    \n",
    "    \n",
    "if __name__ == \"__main__\":\n",
    "    in_string = input('What values do you want to run next_level on(w/)? ')\n",
    "while in_string != '':\n",
    "    values = []\n",
    "    for x in in_string.strip():\n",
    "        values.append(int(x))\n",
    "        #print(values)\n",
    "    print(next_level(values))\n",
    "    in_string = input('What values do you want to run next_level on? ')\n"
   ]
  },
  {
   "cell_type": "code",
   "execution_count": null,
   "id": "2295c34c",
   "metadata": {},
   "outputs": [],
   "source": []
  }
 ],
 "metadata": {
  "kernelspec": {
   "display_name": "Python 3 (ipykernel)",
   "language": "python",
   "name": "python3"
  },
  "language_info": {
   "codemirror_mode": {
    "name": "ipython",
    "version": 3
   },
   "file_extension": ".py",
   "mimetype": "text/x-python",
   "name": "python",
   "nbconvert_exporter": "python",
   "pygments_lexer": "ipython3",
   "version": "3.11.4"
  }
 },
 "nbformat": 4,
 "nbformat_minor": 5
}
