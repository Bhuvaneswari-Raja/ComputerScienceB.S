{
 "cells": [
  {
   "cell_type": "code",
   "execution_count": null,
   "id": "b416c880",
   "metadata": {},
   "outputs": [],
   "source": [
    "\"\"\"\n",
    "File:    minor_key.py\n",
    "Author:  Pooja Rajamanikandan\n",
    "Date:    10/16/2023\n",
    "Section: 54\n",
    "E-mail:  le64534@umbc.edu\n",
    "Description: This program will determine the harmonic minor scale for the note the user inputs\n",
    "\"\"\""
   ]
  },
  {
   "cell_type": "code",
   "execution_count": null,
   "id": "200c0fb4",
   "metadata": {},
   "outputs": [],
   "source": [
    "MUSICAL_NOTES = ['C', 'D\\u266d', 'D', 'E\\u266d', 'E', 'F', 'G\\u266d', 'G', 'A\\u266d', 'A', 'B\\u266d', 'B']\n",
    "MINOR_SCALE_STEPS = [2, 1, 2, 2, 1, 3, 1]\n",
    "EXIT_STRING = \"quit\"\n",
    "\n",
    "#Set starting note to match the propre musical notation\n",
    "def set_note(note):\n",
    "    new_note = \"\"\n",
    "    if note[2:] == \"flat\":\n",
    "        new_note = note[0]+\"\\u266d\"\n",
    "    else:\n",
    "        new_note = note\n",
    "    print(new_note)\n",
    "    return new_note  \n",
    "\n",
    "#Determines the starting index of the note\n",
    "def set_index(note):\n",
    "    #print(\"----------------------------\")\n",
    "    index = 0\n",
    "    while note != MUSICAL_NOTES[index]:\n",
    "        index += 1\n",
    "    print(\"Index =\",index)\n",
    "    return index\n",
    "\n",
    "#Determines the note in the minor scale\n",
    "def set_minor_scale(index):\n",
    "    minor_notes = []\n",
    "    \n",
    "    for x in MINOR_SCALE_STEPS:\n",
    "        if index >= len(MUSICAL_NOTES):\n",
    "            index = index % 12\n",
    "            \n",
    "        minor_notes.append(MUSICAL_NOTES[index])\n",
    "        index += x\n",
    "    return minor_notes\n",
    "\n",
    "if __name__ == \"__main__\":\n",
    "    starting_note = input(\"Enter a starting note: \")\n",
    "    note = set_note(starting_note)\n",
    "    \n",
    "    if note not in MUSICAL_NOTES:\n",
    "        print(\"There is no starting note\",note)\n",
    "        starting_note = input(\"Enter a starting note: \")\n",
    "        note = set_note(starting_note)\n",
    "\n",
    "    \n",
    "    while starting_note != EXIT_STRING:\n",
    "        starting_index = set_index(note)\n",
    "\n",
    "        minor_scale = set_minor_scale(starting_index)\n",
    "        minor_scale.append(note)\n",
    "        for x in minor_scale:\n",
    "            print(x,end = \" \")\n",
    "            \n",
    "        starting_note = input(\"\\nEnter a starting note: \")\n",
    "        note = set_note(starting_note)\n"
   ]
  },
  {
   "cell_type": "code",
   "execution_count": null,
   "id": "5ad64b3b",
   "metadata": {},
   "outputs": [],
   "source": []
  }
 ],
 "metadata": {
  "kernelspec": {
   "display_name": "Python 3 (ipykernel)",
   "language": "python",
   "name": "python3"
  },
  "language_info": {
   "codemirror_mode": {
    "name": "ipython",
    "version": 3
   },
   "file_extension": ".py",
   "mimetype": "text/x-python",
   "name": "python",
   "nbconvert_exporter": "python",
   "pygments_lexer": "ipython3",
   "version": "3.11.4"
  }
 },
 "nbformat": 4,
 "nbformat_minor": 5
}
