{
 "cells": [
  {
   "cell_type": "code",
   "execution_count": 1,
   "id": "5a022afb",
   "metadata": {},
   "outputs": [
    {
     "data": {
      "text/plain": [
       "'\\nFile:    FILENAME.py\\nAuthor:  Pooja Rajamanikandan\\nDate:    THE DATE\\nSection: 54\\nE-mail:  le64534@umbc.edu\\nDescription: DESCRIPTION OF WHAT THE PROGRAM DOES\\n'"
      ]
     },
     "execution_count": 1,
     "metadata": {},
     "output_type": "execute_result"
    }
   ],
   "source": [
    "\"\"\"\n",
    "File:    lock_and_key.py\n",
    "Author:  Pooja Rajamanikandan\n",
    "Date:    10/16/2023\n",
    "Section: 54\n",
    "E-mail:  le64534@umbc.edu\n",
    "Description: The program will calculate the sum of key cuts and lock pinning and determine if \n",
    "    they are within a range to open up\n",
    "\"\"\""
   ]
  },
  {
   "cell_type": "code",
   "execution_count": 7,
   "id": "be57513d",
   "metadata": {},
   "outputs": [
    {
     "name": "stdout",
     "output_type": "stream",
     "text": [
      "Unlocked\n",
      "Unlocked\n",
      "Still Locked\n"
     ]
    }
   ],
   "source": [
    "def lock_and_key(key_cuts, lock_pinning, minimum):\n",
    "    # Makes sure both list are equal\n",
    "    while len(key_cuts) != len(lock_pinning):\n",
    "        if len(key_cuts) > len(lock_pinning):\n",
    "            key_cuts.pop()\n",
    "        if len(key_cuts) < len(lock_pinning):\n",
    "            lock_pinning.pop()\n",
    "    counter = 0\n",
    "    \n",
    "    for x in range(len(key_cuts)):\n",
    "        if abs((key_cuts[x] + lock_pinning[x]) - 6) < minimum:\n",
    "            counter += 1\n",
    "            #print(\"sum =\",abs((key_cuts[x] + lock_pinning[x]) - 6))\n",
    "    # Determines if locked or unlocked\n",
    "    if counter == len(key_cuts):\n",
    "        print(\"Unlocked\")\n",
    "    else:\n",
    "        print(\"Still Locked\")\n",
    "            \n",
    "    \n",
    "    \n",
    "if __name__ == \"__main__\":\n",
    "      \n",
    "    lock_and_key([2.1, 3.5, 2.7], [4.1, 2.5, 3.2], 0.25)\n",
    "    lock_and_key([2.1, 3.5, 2.7, 1.7], [4.1, 2.5, 3.2], 0.25)\n",
    "    lock_and_key([2.1, 3.5, 2.7, 1.7], [4.1, 2.5, 3.2, 3.2], 0.25)\n",
    "      "
   ]
  },
  {
   "cell_type": "code",
   "execution_count": 5,
   "id": "6835451f",
   "metadata": {},
   "outputs": [
    {
     "name": "stdout",
     "output_type": "stream",
     "text": [
      "sum = 0.1999999999999993\n",
      "sum = 0.0\n",
      "sum = 0.09999999999999964\n",
      "Unlocked\n"
     ]
    }
   ],
   "source": [
    "key_cuts = [2.1,3.5,2.7]\n",
    "lock_pinning = [4.1,2.5,3.2]\n",
    "minimum = 0.25\n",
    "counter = 0\n",
    "for x in range(len(key_cuts)):\n",
    "    if abs((key_cuts[x] + lock_pinning[x]) - 6) < minimum:\n",
    "        counter += 1\n",
    "        print(\"sum =\",abs((key_cuts[x] + lock_pinning[x]) - 6))\n",
    "        \n",
    "if counter == len(key_cuts):\n",
    "    print(\"Unlocked\")\n",
    "else:\n",
    "    print(\"Still Locked\")"
   ]
  },
  {
   "cell_type": "code",
   "execution_count": null,
   "id": "bb4255f9",
   "metadata": {},
   "outputs": [],
   "source": []
  }
 ],
 "metadata": {
  "kernelspec": {
   "display_name": "Python 3 (ipykernel)",
   "language": "python",
   "name": "python3"
  },
  "language_info": {
   "codemirror_mode": {
    "name": "ipython",
    "version": 3
   },
   "file_extension": ".py",
   "mimetype": "text/x-python",
   "name": "python",
   "nbconvert_exporter": "python",
   "pygments_lexer": "ipython3",
   "version": "3.11.4"
  }
 },
 "nbformat": 4,
 "nbformat_minor": 5
}
