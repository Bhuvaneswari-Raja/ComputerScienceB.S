{
 "cells": [
  {
   "cell_type": "code",
   "execution_count": null,
   "id": "ff3eea5a",
   "metadata": {},
   "outputs": [],
   "source": [
    "\"\"\"\n",
    "File:    burger_builder.py\n",
    "Author:  Pooja Rajamanikandan\n",
    "Date:    10/02/2023\n",
    "Section: 54\n",
    "E-mail:  le64534@umbc.edu\n",
    "Description: build a hamburger or cheeseburger using the User input.\n",
    "    Print out all the condiments in the burger and diplays if it was\n",
    "    n-number of cheeseburger or hamburger.\n",
    "\"\"\""
   ]
  },
  {
   "cell_type": "code",
   "execution_count": null,
   "id": "0bd92d4f",
   "metadata": {},
   "outputs": [],
   "source": [
    "if __name__ == \"__main__\":\n",
    "    bun = input(\"What do you want to add? \")\n",
    "    condiment_list = list()\n",
    "    cheese_counter = 0\n",
    "    burger_counter = 0\n",
    "    \n",
    "    while bun != \"bottom bun\":\n",
    "        print(\"You must start with the bottom bun!\")\n",
    "        bun = input(\"What do you want to add? \")\n",
    "            \n",
    "    while bun.lower() == \"bottom bun\":\n",
    "        condiments = input(\"What do you want to add? \")\n",
    "        #adds all condiements to the list except for top bun, cheese, and burger \n",
    "        if condiments != \"cheese\" and condiments != \"top bun\" and condiments != \"burger\":\n",
    "            condiment_list.append(condiments)\n",
    "        \n",
    "        #counts the number of cheese\n",
    "        if condiments.lower() == \"cheese\":\n",
    "            cheese_counter += 1\n",
    "        #counts the number of burger \n",
    "        if condiments.lower() == \"burger\":\n",
    "            burger_counter += 1\n",
    "        #sets the bun to top bun\n",
    "        if condiments == \"top bun\":\n",
    "            bun = \"top bun\"\n",
    "            \n",
    "    if cheese_counter > 0:\n",
    "        print(\"You have created a {}-cheeseburger with the condiments: \".format(cheese_counter))\n",
    "        for x in condiment_list:\n",
    "            print(x,end=\", \")\n",
    "    else:\n",
    "        print(\"You have created a {} -hamburger with the condiments: \".format(burger_counter))\n",
    "        for x in condiment_list:\n",
    "            print(x,end=\", \")\n",
    "        "
   ]
  },
  {
   "cell_type": "code",
   "execution_count": null,
   "id": "b2e6d41c",
   "metadata": {},
   "outputs": [],
   "source": []
  }
 ],
 "metadata": {
  "kernelspec": {
   "display_name": "Python 3",
   "language": "python",
   "name": "python3"
  },
  "language_info": {
   "codemirror_mode": {
    "name": "ipython",
    "version": 3
   },
   "file_extension": ".py",
   "mimetype": "text/x-python",
   "name": "python",
   "nbconvert_exporter": "python",
   "pygments_lexer": "ipython3",
   "version": "3.8.8"
  }
 },
 "nbformat": 4,
 "nbformat_minor": 5
}
