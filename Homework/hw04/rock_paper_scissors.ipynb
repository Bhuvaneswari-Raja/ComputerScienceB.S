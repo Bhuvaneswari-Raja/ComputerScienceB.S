{
 "cells": [
  {
   "cell_type": "code",
   "execution_count": 5,
   "id": "ba2836c1",
   "metadata": {},
   "outputs": [
    {
     "data": {
      "text/plain": [
       "'\\nFile:    rock_paper_scissors.py\\nAuthor:  Pooja Rajamanikandan\\nDate:    10/02/2023\\nSection: 54\\nE-mail:  le64534@umbc.edu\\nDescription: This program implements a game of rock, paper, scissors\\n'"
      ]
     },
     "execution_count": 5,
     "metadata": {},
     "output_type": "execute_result"
    }
   ],
   "source": [
    "\"\"\"\n",
    "File:    rock_paper_scissors.py\n",
    "Author:  Pooja Rajamanikandan\n",
    "Date:    10/02/2023\n",
    "Section: 54\n",
    "E-mail:  le64534@umbc.edu\n",
    "Description: This program implements a game of rock, paper, scissors\n",
    "    against the user and computer\n",
    "\"\"\""
   ]
  },
  {
   "cell_type": "code",
   "execution_count": 4,
   "id": "2b69f91b",
   "metadata": {},
   "outputs": [
    {
     "name": "stdout",
     "output_type": "stream",
     "text": [
      "Enter rock, paper, or scissors to play, stop to end. power\n",
      "You need to select rock, paper or scissors\n",
      "Enter rock, paper, or scissors to play, stop to end. awef\n",
      "You need to select rock, paper or scissors\n",
      "Enter rock, paper, or scissors to play, stop to end. WEFwef\n",
      "You need to select rock, paper or scissors\n",
      "Enter rock, paper, or scissors to play, stop to end. swaefsd\n",
      "You need to select rock, paper or scissors\n",
      "Enter rock, paper, or scissors to play, stop to end. stop\n"
     ]
    }
   ],
   "source": [
    "import sys\n",
    "from random import choice, seed\n",
    "if len(sys.argv) >= 2:\n",
    "    seed(sys.argv[1])\n",
    "\n",
    "if __name__ == \"__main__\":\n",
    "    \n",
    "    \n",
    "    user_choice = input(\"Enter rock, paper, or scissors to play, stop to end. \")\n",
    "    choice_list = [\"rock\",\"paper\",\"scissors\"]\n",
    "    \n",
    "    computer_choice =  choice(choice_list)\n",
    "    \n",
    "    while user_choice != \"stop\":\n",
    "        computer_choice =  choice(choice_list)\n",
    "        if user_choice not in choice_list:\n",
    "            print(\"You need to select rock, paper or scissors\")\n",
    "            user_choice = input(\"Enter rock, paper, or scissors to play, stop to end. \")\n",
    "        \n",
    "        if user_choice == computer_choice:\n",
    "            print(\"Both\",user_choice,\",It's a tie\")\n",
    "            user_choice = input(\"Enter rock, paper, or scissors to play, stop to end. \")\n",
    "            \n",
    "        elif user_choice == \"rock\":\n",
    "            if computer_choice == \"paper\":\n",
    "                print(\"Paper covers rock, you lose\")\n",
    "            elif computer_choice == \"scissors\":\n",
    "                print(\"Rock crushes scissors, you win.\")\n",
    "            user_choice = input(\"Enter rock, paper, or scissors to play, stop to end. \")\n",
    "                \n",
    "        elif user_choice == \"paper\":\n",
    "            if computer_choice == \"rock\":\n",
    "                print(\"Paper covers rock, you win\")\n",
    "            elif computer_choice == \"scissors\":\n",
    "                print(\"Scissors cuts paper, you lose\")\n",
    "            user_choice = input(\"Enter rock, paper, or scissors to play, stop to end. \")\n",
    "      \n",
    "        elif user_choice == \"scissors\":\n",
    "            if computer_choice == \"rock\":\n",
    "                print(\"Rock crushes scissors, you lose.\")\n",
    "            elif computer_choice == \"paper\":\n",
    "                print(\"Scissors cuts paper, you win\")\n",
    "            user_choice = input(\"Enter rock, paper, or scissors to play, stop to end. \")\n",
    "\n"
   ]
  },
  {
   "cell_type": "code",
   "execution_count": null,
   "id": "733b939b",
   "metadata": {},
   "outputs": [],
   "source": []
  }
 ],
 "metadata": {
  "kernelspec": {
   "display_name": "Python 3 (ipykernel)",
   "language": "python",
   "name": "python3"
  },
  "language_info": {
   "codemirror_mode": {
    "name": "ipython",
    "version": 3
   },
   "file_extension": ".py",
   "mimetype": "text/x-python",
   "name": "python",
   "nbconvert_exporter": "python",
   "pygments_lexer": "ipython3",
   "version": "3.11.4"
  }
 },
 "nbformat": 4,
 "nbformat_minor": 5
}
