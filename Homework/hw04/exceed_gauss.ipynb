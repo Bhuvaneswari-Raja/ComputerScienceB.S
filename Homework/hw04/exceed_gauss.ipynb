{
 "cells": [
  {
   "cell_type": "code",
   "execution_count": 9,
   "id": "24a3d7b9",
   "metadata": {},
   "outputs": [
    {
     "data": {
      "text/plain": [
       "'\\nFile:    exceed_gauss.py\\nAuthor:  Pooja Rajamanikandan\\nDate:    10/02/2023\\nSection: 54\\nE-mail:  le64534@umbc.edu\\nDescription: The program calculates the Gauss sum of 1 to a number given \\n    by the user.\\n'"
      ]
     },
     "execution_count": 9,
     "metadata": {},
     "output_type": "execute_result"
    }
   ],
   "source": [
    "\"\"\"\n",
    "File:    exceed_gauss.py\n",
    "Author:  Pooja Rajamanikandan\n",
    "Date:    10/02/2023\n",
    "Section: 54\n",
    "E-mail:  le64534@umbc.edu\n",
    "Description: The program calculates the Gauss sum of 1 to a number given \n",
    "    by the user.\n",
    "\"\"\""
   ]
  },
  {
   "cell_type": "code",
   "execution_count": 10,
   "id": "f8d7b2db",
   "metadata": {},
   "outputs": [
    {
     "name": "stdout",
     "output_type": "stream",
     "text": [
      "What number do you want to test? 9\n",
      "After 4 iterations, the gauss sum is 10 which exceeds (or is equal to) the number 9\n"
     ]
    }
   ],
   "source": [
    "if __name__ == \"__main__\":\n",
    "    \n",
    "    gauss_range = int(input(\"What number do you want to test? \"))\n",
    "    gauss_sum = 0\n",
    "    iterations = 0\n",
    "    \n",
    "    while gauss_sum <= gauss_range:\n",
    "        #counts the number of iterations\n",
    "        iterations += 1\n",
    "        #calculates the sum\n",
    "        gauss_sum += iterations\n",
    "        \n",
    "    print(\"After\",iterations,\"iterations, the gauss sum is\",gauss_sum,\"which exceeds (or is equal to) the number\",gauss_range)"
   ]
  }
 ],
 "metadata": {
  "kernelspec": {
   "display_name": "Python 3 (ipykernel)",
   "language": "python",
   "name": "python3"
  },
  "language_info": {
   "codemirror_mode": {
    "name": "ipython",
    "version": 3
   },
   "file_extension": ".py",
   "mimetype": "text/x-python",
   "name": "python",
   "nbconvert_exporter": "python",
   "pygments_lexer": "ipython3",
   "version": "3.11.4"
  }
 },
 "nbformat": 4,
 "nbformat_minor": 5
}
