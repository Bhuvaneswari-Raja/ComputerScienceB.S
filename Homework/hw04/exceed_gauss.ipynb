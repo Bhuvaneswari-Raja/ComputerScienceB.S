{
 "cells": [
  {
   "cell_type": "code",
   "execution_count": 1,
   "id": "24a3d7b9",
   "metadata": {},
   "outputs": [
    {
     "data": {
      "text/plain": [
       "'\\nFile:    exceed_gauss.py\\nAuthor:  Pooja Rajamanikandan\\nDate:    10/02/2023\\nSection: 54\\nE-mail:  le64534@umbc.edu\\nDescription: \\n'"
      ]
     },
     "execution_count": 1,
     "metadata": {},
     "output_type": "execute_result"
    }
   ],
   "source": [
    "\"\"\"\n",
    "File:    exceed_gauss.py\n",
    "Author:  Pooja Rajamanikandan\n",
    "Date:    10/02/2023\n",
    "Section: 54\n",
    "E-mail:  le64534@umbc.edu\n",
    "Description: \n",
    "\"\"\""
   ]
  },
  {
   "cell_type": "code",
   "execution_count": 3,
   "id": "f8d7b2db",
   "metadata": {},
   "outputs": [
    {
     "name": "stdout",
     "output_type": "stream",
     "text": [
      "What number do you want to test? 28\n",
      "After 27 iterations, the gauss sum is  378  which exceeds (or is equal to) the number 28\n"
     ]
    }
   ],
   "source": [
    "if __name__ == \"__main__\":\n",
    "    \n",
    "    gauss_range = int(input(\"What number do you want to test? \"))\n",
    "    gauss_sum = 0\n",
    "    \n",
    "    while gauss_sum <= gauss_range:  "
   ]
  },
  {
   "cell_type": "code",
   "execution_count": 12,
   "id": "f7b0a6ec",
   "metadata": {},
   "outputs": [
    {
     "name": "stdout",
     "output_type": "stream",
     "text": [
      "sum = 1\n",
      "sum = 3\n",
      "sum = 6\n",
      "sum = 10\n",
      "sum = 15\n"
     ]
    }
   ],
   "source": [
    "num = 5\n",
    "sum = 0\n",
    "while sum <= 5:\n",
    "    for x in range(num):\n",
    "        x += 1\n",
    "        sum += x\n",
    "        print(\"sum =\",sum)"
   ]
  },
  {
   "cell_type": "code",
   "execution_count": 11,
   "id": "45280bb0",
   "metadata": {},
   "outputs": [
    {
     "name": "stdout",
     "output_type": "stream",
     "text": [
      "sum = 0\n",
      "sum = 1\n",
      "sum = 3\n",
      "sum = 6\n",
      "sum = 10\n"
     ]
    }
   ],
   "source": [
    "y = 0\n",
    "for x in range(5):\n",
    "    y += x\n",
    "    print(\"sum =\",y)"
   ]
  },
  {
   "cell_type": "code",
   "execution_count": null,
   "id": "5c753e60",
   "metadata": {},
   "outputs": [],
   "source": []
  }
 ],
 "metadata": {
  "kernelspec": {
   "display_name": "Python 3 (ipykernel)",
   "language": "python",
   "name": "python3"
  },
  "language_info": {
   "codemirror_mode": {
    "name": "ipython",
    "version": 3
   },
   "file_extension": ".py",
   "mimetype": "text/x-python",
   "name": "python",
   "nbconvert_exporter": "python",
   "pygments_lexer": "ipython3",
   "version": "3.11.4"
  }
 },
 "nbformat": 4,
 "nbformat_minor": 5
}
