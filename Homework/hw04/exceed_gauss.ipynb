{
 "cells": [
  {
   "cell_type": "code",
   "execution_count": null,
   "id": "24a3d7b9",
   "metadata": {},
   "outputs": [],
   "source": [
    "\"\"\"\n",
    "File:    exceed_gauss.py\n",
    "Author:  Pooja Rajamanikandan\n",
    "Date:    10/02/2023\n",
    "Section: 54\n",
    "E-mail:  le64534@umbc.edu\n",
    "Description: \n",
    "\"\"\""
   ]
  }
 ],
 "metadata": {
  "kernelspec": {
   "display_name": "Python 3 (ipykernel)",
   "language": "python",
   "name": "python3"
  },
  "language_info": {
   "codemirror_mode": {
    "name": "ipython",
    "version": 3
   },
   "file_extension": ".py",
   "mimetype": "text/x-python",
   "name": "python",
   "nbconvert_exporter": "python",
   "pygments_lexer": "ipython3",
   "version": "3.11.4"
  }
 },
 "nbformat": 4,
 "nbformat_minor": 5
}
