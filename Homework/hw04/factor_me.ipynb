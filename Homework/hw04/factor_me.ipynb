{
 "cells": [
  {
   "cell_type": "code",
   "execution_count": 1,
   "id": "28ab51bb",
   "metadata": {},
   "outputs": [
    {
     "data": {
      "text/plain": [
       "'\\nFile:    factor_me.py\\nAuthor:  Pooja Rajamanikandan\\nDate:    10/02/2023\\nSection: 54\\nE-mail:  le64534@umbc.edu\\nDescription: \\n'"
      ]
     },
     "execution_count": 1,
     "metadata": {},
     "output_type": "execute_result"
    }
   ],
   "source": [
    "\"\"\"\n",
    "File:    factor_me.py\n",
    "Author:  Pooja Rajamanikandan\n",
    "Date:    10/02/2023\n",
    "Section: 54\n",
    "E-mail:  le64534@umbc.edu\n",
    "Description: The program wil factor a number into prime factors less than 50\n",
    "\"\"\""
   ]
  },
  {
   "cell_type": "code",
   "execution_count": null,
   "id": "1abee055",
   "metadata": {},
   "outputs": [],
   "source": [
    "if __name__ == \"__main__\":\n",
    "    \n",
    "    list_of_primes = [2, 3, 5, 7, 11, 13, 17, 19, 23, 29, 31, 37, 41, 43, 47]\n",
    "    \n",
    "    user_num = int(input(\"Enter a number to factor: \"))\n",
    "    \n",
    "    \n",
    "    #Iterates through the list of primes\n",
    "    for x in list_of_primes:\n",
    "        #checks if the number is factorable with prime less than 50 \n",
    "        if user_num % x == 0:\n",
    "            print(\"\\nThis part of the number couldn't be factored with primes less than 50:\",user_num) \n",
    "    \n",
    "    #If the number is factorable with prime less than 50, outputs all the factors \n",
    "    for x in range(len(list_of_primes)):\n",
    "        while user_num % list_of_primes[x] != 0:\n",
    "            if user_num % list_of_primes[-1] != 0:\n",
    "                print(\"We didn't find any factors\")\n",
    "                print(\"This part of the number couldn't be factored with \\nprimes less than 50:\")\n",
    "        "
   ]
  },
  {
   "cell_type": "code",
   "execution_count": null,
   "id": "7cf1c69f",
   "metadata": {},
   "outputs": [],
   "source": []
  }
 ],
 "metadata": {
  "kernelspec": {
   "display_name": "Python 3 (ipykernel)",
   "language": "python",
   "name": "python3"
  },
  "language_info": {
   "codemirror_mode": {
    "name": "ipython",
    "version": 3
   },
   "file_extension": ".py",
   "mimetype": "text/x-python",
   "name": "python",
   "nbconvert_exporter": "python",
   "pygments_lexer": "ipython3",
   "version": "3.11.4"
  }
 },
 "nbformat": 4,
 "nbformat_minor": 5
}
