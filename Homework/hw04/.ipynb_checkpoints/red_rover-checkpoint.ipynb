{
 "cells": [
  {
   "cell_type": "code",
   "execution_count": 1,
   "id": "1409497c",
   "metadata": {},
   "outputs": [
    {
     "data": {
      "text/plain": [
       "'\\nFile:    red_rover.py\\nAuthor:  Pooja Rajamanikandan\\nDate:    10/02/2023\\nSection: 54\\nE-mail:  le64534@umbc.edu\\nDescription: \\n'"
      ]
     },
     "execution_count": 1,
     "metadata": {},
     "output_type": "execute_result"
    }
   ],
   "source": [
    "\"\"\"\n",
    "File:    red_rover.py\n",
    "Author:  Pooja Rajamanikandan\n",
    "Date:    10/02/2023\n",
    "Section: 54\n",
    "E-mail:  le64534@umbc.edu\n",
    "Description: The programs is used to play a game of Red Rover\n",
    "\"\"\""
   ]
  },
  {
   "cell_type": "code",
   "execution_count": 2,
   "id": "b7545aeb",
   "metadata": {},
   "outputs": [
    {
     "name": "stdout",
     "output_type": "stream",
     "text": [
      "Who should we add to the Red team? Pooja\n",
      "Who should we add to the Blue team? Raja\n",
      "Who should we add to the Red team? Nandhini\n",
      "Who should we add to the Blue team? Kala\n",
      "Who should we add to the Red team? Alex\n",
      "Who should we add to the Blue team? start game\n",
      "Who should Red team send over? display\n",
      "The Red Team is composed of: \n",
      "Pooja, Nandhini, Who should Red team send over? Pooja\n",
      "Did they make it through the line? yes\n",
      "Pooja stays on Red team\n",
      "Who should Blue team send over? display\n",
      "The Blue Team is composed of: \n",
      "Pooja, Nandhini, Who should Blue team send over? Raja\n",
      "Did they make it through the line? no\n",
      "Raja change to Blue team\n",
      "The Red Team has won\n"
     ]
    }
   ],
   "source": [
    "if __name__ == \"__main__\":\n",
    "    \n",
    "    red_team = list()  #Initiates the red_team list \n",
    "    blue_team = list() #Initiates the blue_team list \n",
    "    winner = False     #Sets winner to fasle since games hasn't started  \n",
    "    team_member = \"\"   #Initiates\n",
    "    coin = 1           #A counter to switch between turns of each team\n",
    "    \n",
    "    #Alternates between the two teams to add players \n",
    "    while team_member != \"start game\":\n",
    "        team_member = input(\"Who should we add to the Red team? \")\n",
    "        red_team.append(team_member)\n",
    "        if \"start game\" in red_team:\n",
    "            red_team.remove(\"start game\")\n",
    "        \n",
    "        #To stop adding players once the game has started \n",
    "        if team_member != \"start game\":\n",
    "            team_member = input(\"Who should we add to the Blue team? \")\n",
    "            blue_team.append(team_member)\n",
    "            if \"start game\" in blue_team:\n",
    "                blue_team.remove(\"start game\")\n",
    "                \n",
    "        #To ensure both teams have equal amount of players        \n",
    "        if len(red_team) > len(blue_team):\n",
    "            red_team.pop(-1)\n",
    "        if len(red_team) < len(blue_team):\n",
    "            blue_team.pop(-1)\n",
    "        \n",
    "    #The games only if there are no winner yet    \n",
    "    while winner == False and len(red_team) == len(blue_team):\n",
    "        \n",
    "        #Ask Red team their choices while its their turn\n",
    "        if team_member == \"start game\" or coin == 1:\n",
    "            person_sent_over = input(\"Who should Red team send over? \")\n",
    "            \n",
    "            #displays Team members\n",
    "            if person_sent_over == \"display\":\n",
    "                print(\"The Red Team is composed of: \")\n",
    "                for x in red_team:\n",
    "                    print(x,end=\", \")\n",
    "                person_sent_over = input(\"Who should Red team send over? \")\n",
    "            \n",
    "            #Determines if the person made it through the line\n",
    "            if person_sent_over in red_team:\n",
    "                break_through = input(\"Did they make it through the line? \")\n",
    "                if break_through == \"yes\":\n",
    "                    print(person_sent_over,\"stays on Red team\")\n",
    "                if break_through == \"no\":\n",
    "                    print(person_sent_over,\"change to Blue team\")\n",
    "                    blue_team.append(red_team.remove(person_sent_over))\n",
    "                    \n",
    "            coin = 2 #Change to Blue team's turn\n",
    "            \n",
    "        #Ask Blue team their choices while its their turn\n",
    "        if coin == 2:\n",
    "            person_sent_over = input(\"Who should Blue team send over? \")\n",
    "            \n",
    "            #displays Team members\n",
    "            if person_sent_over == \"display\":\n",
    "                print(\"The Blue Team is composed of: \")\n",
    "                for x in blue_team:\n",
    "                    print(x,end=\", \")\n",
    "                person_sent_over = input(\"Who should Blue team send over? \")\n",
    "                \n",
    "            #Determines if the person made it through the line\n",
    "            if person_sent_over in blue_team:\n",
    "                break_through = input(\"Did they make it through the line? \")\n",
    "                if break_through == \"yes\":\n",
    "                    print(person_sent_over,\"stays on Blue team\")\n",
    "                if break_through == \"no\":\n",
    "                    print(person_sent_over,\"change to Blue team\")\n",
    "                    red_team.append(blue_team.remove(person_sent_over))\n",
    "                    \n",
    "            coin = 1 #Change to Red team's turn\n",
    "        \n",
    "        #Checks for a winner and determines who it is\n",
    "        if len(red_team) <= 1 or len(blue_team) <= 1:\n",
    "            winner = True\n",
    "            if len(red_team) > len(blue_team):\n",
    "                print(\"The Red Team has won\")\n",
    "            if len(red_team) < len(blue_team):\n",
    "                print(\"The Blue Team has won\")"
   ]
  },
  {
   "cell_type": "code",
   "execution_count": null,
   "id": "df5baf6d",
   "metadata": {},
   "outputs": [],
   "source": []
  }
 ],
 "metadata": {
  "kernelspec": {
   "display_name": "Python 3 (ipykernel)",
   "language": "python",
   "name": "python3"
  },
  "language_info": {
   "codemirror_mode": {
    "name": "ipython",
    "version": 3
   },
   "file_extension": ".py",
   "mimetype": "text/x-python",
   "name": "python",
   "nbconvert_exporter": "python",
   "pygments_lexer": "ipython3",
   "version": "3.11.5"
  }
 },
 "nbformat": 4,
 "nbformat_minor": 5
}
