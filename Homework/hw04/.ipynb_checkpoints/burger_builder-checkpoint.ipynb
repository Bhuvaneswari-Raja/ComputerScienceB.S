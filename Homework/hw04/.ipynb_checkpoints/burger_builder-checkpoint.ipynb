{
 "cells": [
  {
   "cell_type": "code",
   "execution_count": 1,
   "id": "ff3eea5a",
   "metadata": {},
   "outputs": [
    {
     "data": {
      "text/plain": [
       "'\\nFile:    burger_builder.py\\nAuthor:  Pooja Rajamanikandan\\nDate:    10/02/2023\\nSection: 54\\nE-mail:  le64534@umbc.edu\\nDescription: DESCRIPTION OF WHAT THE PROGRAM DOES\\n'"
      ]
     },
     "execution_count": 1,
     "metadata": {},
     "output_type": "execute_result"
    }
   ],
   "source": [
    "\"\"\"\n",
    "File:    burger_builder.py\n",
    "Author:  Pooja Rajamanikandan\n",
    "Date:    10/02/2023\n",
    "Section: 54\n",
    "E-mail:  le64534@umbc.edu\n",
    "Description: DESCRIPTION OF WHAT THE PROGRAM DOES\n",
    "\"\"\""
   ]
  },
  {
   "cell_type": "code",
   "execution_count": null,
   "id": "0bd92d4f",
   "metadata": {},
   "outputs": [],
   "source": [
    "if __name__ == \"__main__\":\n",
    "    bun = input(\"What do you want to add? \")\n",
    "    condiment_list = list()\n",
    "    cheese_counter = 0\n",
    "    \n",
    "    while bun != \"bottom bun\":\n",
    "        print(\"You must start with the bottom bun!\")\n",
    "        bun = input(\"What do you want to add? \")\n",
    "            \n",
    "    while bun.lower() == \"bottom bun\":\n",
    "        condiments = input(\"What do you want to add? \")\n",
    "        if condiments != \"cheese\" and condiments != \"top bun\":\n",
    "            condiment_list.append(condiments)\n",
    "            \n",
    "        if condiments.lower() == \"cheese\":\n",
    "            cheese_counter += 1\n",
    "            \n",
    "        if condiments == \"top bun\":\n",
    "            bun = \"top bun\"\n",
    "            \n",
    "    if cheese_counter > 0:\n",
    "        print(\"You have created a\",cheese_counter,\"-cheeseburger with the condiments: \")\n",
    "        for x in condiment_list:\n",
    "            print(x,end=\", \")\n",
    "    else:\n",
    "        print(\"You have created a 1-hamburger with the condiments: \")\n",
    "        for x in condiment_list:\n",
    "            print(x,end=\"\")\n",
    "        "
   ]
  },
  {
   "cell_type": "code",
   "execution_count": null,
   "id": "4e6509e3",
   "metadata": {},
   "outputs": [],
   "source": []
  }
 ],
 "metadata": {
  "kernelspec": {
   "display_name": "Python 3 (ipykernel)",
   "language": "python",
   "name": "python3"
  },
  "language_info": {
   "codemirror_mode": {
    "name": "ipython",
    "version": 3
   },
   "file_extension": ".py",
   "mimetype": "text/x-python",
   "name": "python",
   "nbconvert_exporter": "python",
   "pygments_lexer": "ipython3",
   "version": "3.11.4"
  }
 },
 "nbformat": 4,
 "nbformat_minor": 5
}
