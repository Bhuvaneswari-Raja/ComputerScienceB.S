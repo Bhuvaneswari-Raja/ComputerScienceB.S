{
 "cells": [
  {
   "cell_type": "code",
   "execution_count": null,
   "id": "eb34a02b",
   "metadata": {},
   "outputs": [],
   "source": [
    "\"\"\"\n",
    "File:    cookies.py\n",
    "Author:  Pooja Rajamanikandan \n",
    "Date:    09/12/2023\n",
    "Section: 50\n",
    "E-mail:  le64534@umbc.edu\n",
    "Description: Ask the user how many batches of they want to make\n",
    "       and determine the amount of ingredients \n",
    "\"\"\""
   ]
  },
  {
   "cell_type": "code",
   "execution_count": 5,
   "id": "88549c5d",
   "metadata": {},
   "outputs": [
    {
     "name": "stdout",
     "output_type": "stream",
     "text": [
      "How many batches of cookies do you want to make? 200\n",
      "You Need: \n",
      "450.0 cups of flour\n",
      "400.0 sticks of butter\n",
      "150.0 cups of granulated sugar\n",
      "150.0 cups of brown sugar\n",
      "200.0 teaspoons of vanila extract\n",
      "200.0 teaspoons of baking soda\n",
      "200.0 teaspoons of salt\n",
      "400.0 cups of chocolate chips (or measue with your heart)\n"
     ]
    }
   ],
   "source": [
    "batches = float(input(\"How many batches of cookies do you want to make? \"))\n",
    "\n",
    "flour = batches * 2.25\n",
    "butter = batches * 2\n",
    "granulated_sugar = batches * 0.75\n",
    "brown_sugar = batches * 0.75\n",
    "vanilla_extract = batches * 1\n",
    "baking_soda = batches * 1\n",
    "salt = batches * 1\n",
    "choco_chips = batches * 2\n",
    "\n",
    "print(\"You Need: \")\n",
    "print(flour,\"cups of flour\")\n",
    "print(butter,\"sticks of butter\")\n",
    "print(granulated_sugar,\"cups of granulated sugar\")\n",
    "print(brown_sugar,\"cups of brown sugar\")\n",
    "print(vanilla_extract,\"teaspoons of vanila extract\")\n",
    "print(baking_soda,\"teaspoons of baking soda\")\n",
    "print(salt,\"teaspoons of salt\")\n",
    "print(choco_chips,\"cups of chocolate chips (or measue with your heart)\" )"
   ]
  },
  {
   "cell_type": "code",
   "execution_count": null,
   "id": "7e0c91d9",
   "metadata": {},
   "outputs": [],
   "source": []
  },
  {
   "cell_type": "code",
   "execution_count": null,
   "id": "3747db30",
   "metadata": {},
   "outputs": [],
   "source": []
  }
 ],
 "metadata": {
  "kernelspec": {
   "display_name": "Python 3 (ipykernel)",
   "language": "python",
   "name": "python3"
  },
  "language_info": {
   "codemirror_mode": {
    "name": "ipython",
    "version": 3
   },
   "file_extension": ".py",
   "mimetype": "text/x-python",
   "name": "python",
   "nbconvert_exporter": "python",
   "pygments_lexer": "ipython3",
   "version": "3.11.4"
  }
 },
 "nbformat": 4,
 "nbformat_minor": 5
}
