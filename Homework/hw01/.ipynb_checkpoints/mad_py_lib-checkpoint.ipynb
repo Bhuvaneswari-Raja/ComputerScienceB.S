{
 "cells": [
  {
   "cell_type": "code",
   "execution_count": 1,
   "id": "0a4d34b9",
   "metadata": {},
   "outputs": [
    {
     "data": {
      "text/plain": [
       "'\\nFile:    distance.py\\nAuthor:  Pooja Rajamanikandan \\nDate:    09/12/2023\\nSection: 50\\nE-mail:  le64534@umbc.edu\\nDescription: Ask the user questions for two points, then calucalting the\\n    distance between those points using the distance formula\\n'"
      ]
     },
     "execution_count": 1,
     "metadata": {},
     "output_type": "execute_result"
    }
   ],
   "source": [
    "\"\"\"\n",
    "File:    mad_py_lib.py\n",
    "Author:  Pooja Rajamanikandan \n",
    "Date:    09/12/2023\n",
    "Section: 50\n",
    "E-mail:  le64534@umbc.edu\n",
    "Description: MadLib using a poem\n",
    "\"\"\""
   ]
  },
  {
   "cell_type": "code",
   "execution_count": 2,
   "id": "91544b4d",
   "metadata": {},
   "outputs": [
    {
     "name": "stdout",
     "output_type": "stream",
     "text": [
      "What is a place name?Alaska\n",
      "Give an example of a noun. fish\n",
      "Give an example of another noun. bike\n",
      "Give an example of a familial relation. brother\n",
      "Give an example of a person's name. Archibald\n",
      "Give yet another noun. ground\n",
      "There once was a man from Alaska\n"
     ]
    },
    {
     "ename": "AttributeError",
     "evalue": "'str' object has no attribute 'formant'",
     "output_type": "error",
     "traceback": [
      "\u001b[1;31m---------------------------------------------------------------------------\u001b[0m",
      "\u001b[1;31mAttributeError\u001b[0m                            Traceback (most recent call last)",
      "Cell \u001b[1;32mIn[2], line 10\u001b[0m\n\u001b[0;32m      6\u001b[0m noun_3 \u001b[38;5;241m=\u001b[39m \u001b[38;5;28minput\u001b[39m(\u001b[38;5;124m\"\u001b[39m\u001b[38;5;124mGive yet another noun. \u001b[39m\u001b[38;5;124m\"\u001b[39m)\n\u001b[0;32m      9\u001b[0m \u001b[38;5;28mprint\u001b[39m(\u001b[38;5;124m\"\u001b[39m\u001b[38;5;124mThere once was a man from\u001b[39m\u001b[38;5;124m\"\u001b[39m,place_noun)\n\u001b[1;32m---> 10\u001b[0m \u001b[38;5;28mprint\u001b[39m(\u001b[38;5;124m\"\u001b[39m\u001b[38;5;124mWho kept all his \u001b[39m\u001b[38;5;132;01m{}\u001b[39;00m\u001b[38;5;124m in a \u001b[39m\u001b[38;5;132;01m{}\u001b[39;00m\u001b[38;5;124m.\u001b[39m\u001b[38;5;124m\"\u001b[39m\u001b[38;5;241m.\u001b[39mformant(noun_1,noun_2))\n\u001b[0;32m     11\u001b[0m \u001b[38;5;28mprint\u001b[39m(\u001b[38;5;124m\"\u001b[39m\u001b[38;5;130;01m\\t\u001b[39;00m\u001b[38;5;124mBut his \u001b[39m\u001b[38;5;132;01m{}\u001b[39;00m\u001b[38;5;124m, name \u001b[39m\u001b[38;5;132;01m{}\u001b[39;00m\u001b[38;5;124m,\u001b[39m\u001b[38;5;124m\"\u001b[39m\u001b[38;5;241m.\u001b[39mformat(familial_relation,name))\n\u001b[0;32m     12\u001b[0m \u001b[38;5;28mprint\u001b[39m(\u001b[38;5;124m\"\u001b[39m\u001b[38;5;130;01m\\t\u001b[39;00m\u001b[38;5;124mRan away with a \u001b[39m\u001b[38;5;132;01m{}\u001b[39;00m\u001b[38;5;124m\"\u001b[39m\u001b[38;5;241m.\u001b[39mformat(noun_3))\n",
      "\u001b[1;31mAttributeError\u001b[0m: 'str' object has no attribute 'formant'"
     ]
    }
   ],
   "source": [
    "place_noun = input(\"What is a place name?\")\n",
    "noun_1 = input(\"Give an example of a noun. \")\n",
    "noun_2 = input(\"Give an example of another noun. \")\n",
    "familial_relation = input(\"Give an example of a familial relation. \")\n",
    "name = input(\"Give an example of a person's name. \")\n",
    "noun_3 = input(\"Give yet another noun. \")\n",
    "\n",
    "\n",
    "print(\"There once was a man from\",place_noun)\n",
    "print(\"Who kept all his {} in a {}.\".format(noun_1,noun_2))\n",
    "print(\"\\tBut his {}, name {},\".format(familial_relation,name))\n",
    "print(\"\\tRan away with a {}\".format(noun_3))\n",
    "print(\"And as for the {}, {}.\".format(noun_2, place_noun))"
   ]
  },
  {
   "cell_type": "code",
   "execution_count": null,
   "id": "d8e414b8",
   "metadata": {},
   "outputs": [],
   "source": []
  }
 ],
 "metadata": {
  "kernelspec": {
   "display_name": "Python 3 (ipykernel)",
   "language": "python",
   "name": "python3"
  },
  "language_info": {
   "codemirror_mode": {
    "name": "ipython",
    "version": 3
   },
   "file_extension": ".py",
   "mimetype": "text/x-python",
   "name": "python",
   "nbconvert_exporter": "python",
   "pygments_lexer": "ipython3",
   "version": "3.11.4"
  }
 },
 "nbformat": 4,
 "nbformat_minor": 5
}
