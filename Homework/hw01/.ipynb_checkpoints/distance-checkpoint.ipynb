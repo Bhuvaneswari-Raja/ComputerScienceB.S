{
 "cells": [
  {
   "cell_type": "code",
   "execution_count": 1,
   "id": "6ca7b107",
   "metadata": {},
   "outputs": [
    {
     "data": {
      "text/plain": [
       "'\\nFile:    distance.py\\nAuthor:  Pooja Rajamanikandan \\nDate:    09/12/2023\\nSection: 50\\nE-mail:  le64534@umbc.edu\\nDescription: Ask the user questions about their favourite movie, song,\\n    game, and food. Then output something about each reponse.\\n'"
      ]
     },
     "execution_count": 1,
     "metadata": {},
     "output_type": "execute_result"
    }
   ],
   "source": [
    "\"\"\"\n",
    "File:    distance.py\n",
    "Author:  Pooja Rajamanikandan \n",
    "Date:    09/12/2023\n",
    "Section: 50\n",
    "E-mail:  le64534@umbc.edu\n",
    "Description: Ask the user questions for two points, then calucalting the\n",
    "    distance between those points using the distance formula\n",
    "\"\"\""
   ]
  },
  {
   "cell_type": "code",
   "execution_count": 4,
   "id": "e90c8905",
   "metadata": {},
   "outputs": [
    {
     "name": "stdout",
     "output_type": "stream",
     "text": [
      "Enter x1: 2\n",
      "Enter y1: 3\n",
      "Enter x2: 7\n",
      "Enter y2: 4.9\n",
      "The distance between (2.0, 3.0) and (7.0, 4.9) is 14.305\n"
     ]
    }
   ],
   "source": [
    "x1 = float(input(\"Enter x1: \"))\n",
    "y1 = float(input(\"Enter y1: \"))\n",
    "x2 = float(input(\"Enter x2: \"))\n",
    "y2 = float(input(\"Enter y2: \"))\n",
    "\n",
    "distance = ((x2 - x1)**2)**1/2 + ((y2 - y1)**2)**1/2\n",
    "\n",
    "print(\"The distance between ({}, {}) and ({}, {}) is\".format(x1,y1,x2,y2), distance)"
   ]
  },
  {
   "cell_type": "code",
   "execution_count": null,
   "id": "ff24fd9d",
   "metadata": {},
   "outputs": [],
   "source": []
  }
 ],
 "metadata": {
  "kernelspec": {
   "display_name": "Python 3 (ipykernel)",
   "language": "python",
   "name": "python3"
  },
  "language_info": {
   "codemirror_mode": {
    "name": "ipython",
    "version": 3
   },
   "file_extension": ".py",
   "mimetype": "text/x-python",
   "name": "python",
   "nbconvert_exporter": "python",
   "pygments_lexer": "ipython3",
   "version": "3.11.4"
  }
 },
 "nbformat": 4,
 "nbformat_minor": 5
}
