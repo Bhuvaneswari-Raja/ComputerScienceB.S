{
 "cells": [
  {
   "cell_type": "code",
   "execution_count": 4,
   "id": "768df987",
   "metadata": {},
   "outputs": [
    {
     "data": {
      "text/plain": [
       "'\\nFile:    mad_py_lib.py\\nAuthor:  Pooja Rajamanikandan \\nDate:    09/12/2023\\nSection: 50\\nE-mail:  le64534@umbc.edu\\nDescription: MadLib using a poem\\n'"
      ]
     },
     "execution_count": 4,
     "metadata": {},
     "output_type": "execute_result"
    }
   ],
   "source": [
    "\"\"\"\n",
    "File:    mad_py_lib.py\n",
    "Author:  Pooja Rajamanikandan \n",
    "Date:    09/12/2023\n",
    "Section: 50\n",
    "E-mail:  le64534@umbc.edu\n",
    "Description: MadLib using a poem\n",
    "\"\"\""
   ]
  },
  {
   "cell_type": "code",
   "execution_count": 3,
   "id": "0a825881",
   "metadata": {},
   "outputs": [
    {
     "name": "stdout",
     "output_type": "stream",
     "text": [
      "What is a place name?Alaska\n",
      "Give an example of a noun. fish\n",
      "Give an example of another noun. bike\n",
      "Give an example of a familial relation. brother\n",
      "Give an example of a person's name. Archibald\n",
      "Give yet another noun. ground\n",
      "There once was a man from Alaska\n",
      "Who kept all his fish in a bike.\n",
      "\tBut his brother, name Archibald,\n",
      "\tRan away with a ground\n",
      "And as for the bike, Alaska.\n"
     ]
    }
   ],
   "source": [
    "place_noun = input(\"What is a place name?\")\n",
    "noun_1 = input(\"Give an example of a noun. \")\n",
    "noun_2 = input(\"Give an example of another noun. \")\n",
    "familial_relation = input(\"Give an example of a familial relation. \")\n",
    "name = input(\"Give an example of a person's name. \")\n",
    "noun_3 = input(\"Give yet another noun. \")\n",
    "\n",
    "\n",
    "print(\"There once was a man from\",place_noun)\n",
    "print(\"Who kept all his {} in a {}.\".format(noun_1,noun_2))\n",
    "print(\"   But his {}, name {},\".format(familial_relation,name))\n",
    "print(\"   Ran away with a {}\".format(noun_3))\n",
    "print(\"And as for the {}, {}.\".format(noun_2, place_noun))"
   ]
  },
  {
   "cell_type": "code",
   "execution_count": null,
   "id": "17af034b",
   "metadata": {},
   "outputs": [],
   "source": []
  }
 ],
 "metadata": {
  "kernelspec": {
   "display_name": "Python 3 (ipykernel)",
   "language": "python",
   "name": "python3"
  },
  "language_info": {
   "codemirror_mode": {
    "name": "ipython",
    "version": 3
   },
   "file_extension": ".py",
   "mimetype": "text/x-python",
   "name": "python",
   "nbconvert_exporter": "python",
   "pygments_lexer": "ipython3",
   "version": "3.11.4"
  }
 },
 "nbformat": 4,
 "nbformat_minor": 5
}
