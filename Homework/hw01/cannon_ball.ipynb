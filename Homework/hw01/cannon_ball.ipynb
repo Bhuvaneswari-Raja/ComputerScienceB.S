{
 "cells": [
  {
   "cell_type": "code",
   "execution_count": 13,
   "id": "3453c4d7",
   "metadata": {},
   "outputs": [
    {
     "name": "stdout",
     "output_type": "stream",
     "text": [
      "Enter the initial velocity (V0): 50\n",
      "Enter the angle that you will fire the cannon: 45\n",
      "The distance the cannon ball will travel is 255.1020408163265 meters\n"
     ]
    }
   ],
   "source": [
    "\"\"\"\n",
    "File:    cannon_ball.py\n",
    "Author:  Pooja Rajamanikandan \n",
    "Date:    09/12/2023\n",
    "Section: 50\n",
    "E-mail:  le64534@umbc.edu\n",
    "Description: Ask the user for an initial velocity and angle in which \n",
    "    they wil fire the cannon, and caluate the distance a \n",
    "    cannon ball travels.\n",
    "\"\"\"\n",
    "\n",
    "import math\n",
    "\n",
    "intial_velocity = int(input(\"Enter the initial velocity (V0): \"))\n",
    "angle_degree = int(input(\"Enter the angle that you will fire the cannon: \"))\n",
    "\n",
    "radian = angle_degree * (math.pi / 180)\n",
    "travel_distance = ((intial_velocity**2) * math.sin(2 * radian)) / 9.8\n",
    "\n",
    "print(f\"The distance the cannon ball will travel is {travel_distance} meters\")\n",
    "\n"
   ]
  },
  {
   "cell_type": "code",
   "execution_count": null,
   "id": "b4433049",
   "metadata": {},
   "outputs": [],
   "source": []
  }
 ],
 "metadata": {
  "kernelspec": {
   "display_name": "Python 3 (ipykernel)",
   "language": "python",
   "name": "python3"
  },
  "language_info": {
   "codemirror_mode": {
    "name": "ipython",
    "version": 3
   },
   "file_extension": ".py",
   "mimetype": "text/x-python",
   "name": "python",
   "nbconvert_exporter": "python",
   "pygments_lexer": "ipython3",
   "version": "3.11.4"
  }
 },
 "nbformat": 4,
 "nbformat_minor": 5
}
