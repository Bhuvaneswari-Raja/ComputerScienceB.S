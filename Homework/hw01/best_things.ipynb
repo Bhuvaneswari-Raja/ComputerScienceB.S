{
 "cells": [
  {
   "cell_type": "code",
   "execution_count": 2,
   "id": "54ca7282",
   "metadata": {},
   "outputs": [
    {
     "data": {
      "text/plain": [
       "'\\nFile:    best_things.py\\nAuthor:  Pooja Rajamanikandan \\nDate:    09/12/2023\\nSection: 50\\nE-mail:  le64534@umbc.edu\\nDescription: Ask the user questions about their favourite movie, song,\\n    game, and food. Then output something about each reponse.\\n'"
      ]
     },
     "execution_count": 2,
     "metadata": {},
     "output_type": "execute_result"
    }
   ],
   "source": [
    "\"\"\"\n",
    "File:    best_things.py\n",
    "Author:  Pooja Rajamanikandan \n",
    "Date:    09/12/2023\n",
    "Section: 50\n",
    "E-mail:  le64534@umbc.edu\n",
    "Description: Ask the user questions about their favourite movie, song,\n",
    "    game, and food. Then output something about each reponse.\n",
    "\"\"\""
   ]
  },
  {
   "cell_type": "code",
   "execution_count": 3,
   "id": "1bf5618a",
   "metadata": {
    "scrolled": true
   },
   "outputs": [
    {
     "name": "stdout",
     "output_type": "stream",
     "text": [
      "Tell me your favourite movie: The Fifth Element\n",
      "Tell me your favourite song: Don't fear the Reaper\n",
      "Tell me your favourite game: Homeworld\n",
      "Tell me your favourite food: Vindaloo\n",
      "The Fifth Element is a great flim!\n",
      "I love to eat Vindaloo !\n",
      "I heard great things about Homeworld\n",
      "Never heard of Don't fear the Reaper\n"
     ]
    }
   ],
   "source": [
    "fav_movie = input(\"Tell me your favourite movie: \")\n",
    "fav_song = input(\"Tell me your favourite song: \")\n",
    "fav_game = input(\"Tell me your favourite game: \")\n",
    "fav_food = input(\"Tell me your favourite food: \")\n",
    "\n",
    "print(fav_movie,\"is a great flim!\")\n",
    "print(\"I love to eat\",fav_food,\"!\")\n",
    "print(\"I heard great things about\",fav_game)\n",
    "print(\"Never heard of\",fav_song,\"though.\")"
   ]
  },
  {
   "cell_type": "code",
   "execution_count": null,
   "id": "142bdb6d",
   "metadata": {},
   "outputs": [],
   "source": []
  }
 ],
 "metadata": {
  "kernelspec": {
   "display_name": "Python 3 (ipykernel)",
   "language": "python",
   "name": "python3"
  },
  "language_info": {
   "codemirror_mode": {
    "name": "ipython",
    "version": 3
   },
   "file_extension": ".py",
   "mimetype": "text/x-python",
   "name": "python",
   "nbconvert_exporter": "python",
   "pygments_lexer": "ipython3",
   "version": "3.11.4"
  }
 },
 "nbformat": 4,
 "nbformat_minor": 5
}
