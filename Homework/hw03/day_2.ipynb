{
 "cells": [
  {
   "cell_type": "code",
   "execution_count": 1,
   "id": "c44f591f",
   "metadata": {},
   "outputs": [
    {
     "data": {
      "text/plain": [
       "'\\nFile: day_2.py\\nAuthor: Pooja Rajamanikandan\\nDate: 09/26/2023\\nLab Section: 50\\nEmail:  le64534@umbc.edu\\nDescription: The program will determine the day of the week using at least \\n    one listand modulus division\\n'"
      ]
     },
     "execution_count": 1,
     "metadata": {},
     "output_type": "execute_result"
    }
   ],
   "source": [
    "\"\"\"\n",
    "File: day_2.py\n",
    "Author: Pooja Rajamanikandan\n",
    "Date: 09/26/2023\n",
    "Lab Section: 50\n",
    "Email:  le64534@umbc.edu\n",
    "Description: The program will determine the day of the week using at least \n",
    "    one listand modulus division\n",
    "\"\"\""
   ]
  },
  {
   "cell_type": "code",
   "execution_count": 19,
   "id": "21963692",
   "metadata": {},
   "outputs": [
    {
     "name": "stdout",
     "output_type": "stream",
     "text": [
      "What day of September 2023 is it? 16\n",
      "September 16th is a Saturday\n"
     ]
    }
   ],
   "source": [
    "if __name__ == \"__main__\":\n",
    "    num_date = int(input(\"What day of September 2023 is it? \"))\n",
    "    \n",
    "    days = [\"Monday\",\"Tuesday\",\"Wednesday\",\"Thursday\",\"Friday\",\"Saturday\",\"Sunday\"]\n",
    "    \n",
    "\n",
    "    if num_date == 1 or num_date == 21:\n",
    "        suffix = \"st\"\n",
    "    elif num_date == 2 or num_date == 22:\n",
    "        suffix = \"nd\"\n",
    "    elif num_date == 3 or num_date == 23:\n",
    "        suffix = \"rd\"\n",
    "    else:\n",
    "        suffix = \"th\"\n",
    "    \n",
    "\n",
    "    if num_date % 7 == 1:\n",
    "        print(\"September {}{} is a {}\".format(num_date,suffix,days[4]))\n",
    "    elif num_date % 7 == 2:\n",
    "        print(\"September {}{} is a {}\".format(num_date,suffix,days[5]))\n",
    "    elif num_date % 7 == 3:\n",
    "        print(\"September {}{} is a {}\".format(num_date,suffix,days[6]))\n",
    "    elif num_date % 7 == 4:\n",
    "        print(\"September {}{} is a {}\".format(num_date,suffix,days[0]))\n",
    "    elif num_date % 7 == 5:\n",
    "        print(\"September {}{} is a {}\".format(num_date,suffix,days[1]))\n",
    "    elif num_date % 7 == 6:\n",
    "        print(\"September {}{} is a {}\".format(num_date,suffix,days[2]))\n",
    "    elif num_date % 7 == 0:\n",
    "        print(\"September {}{} is a {}\".format(num_date,suffix,days[3]))\n",
    "    else:\n",
    "        print(\"That day\",num_date,\"is out of range, you must enter a number between 1 and 30\")\n",
    "\n"
   ]
  },
  {
   "cell_type": "code",
   "execution_count": 15,
   "id": "35fd65c4",
   "metadata": {},
   "outputs": [
    {
     "data": {
      "text/plain": [
       "4"
      ]
     },
     "execution_count": 15,
     "metadata": {},
     "output_type": "execute_result"
    }
   ],
   "source": [
    "4%7"
   ]
  },
  {
   "cell_type": "code",
   "execution_count": null,
   "id": "a6412e6c",
   "metadata": {},
   "outputs": [],
   "source": []
  }
 ],
 "metadata": {
  "kernelspec": {
   "display_name": "Python 3 (ipykernel)",
   "language": "python",
   "name": "python3"
  },
  "language_info": {
   "codemirror_mode": {
    "name": "ipython",
    "version": 3
   },
   "file_extension": ".py",
   "mimetype": "text/x-python",
   "name": "python",
   "nbconvert_exporter": "python",
   "pygments_lexer": "ipython3",
   "version": "3.11.4"
  }
 },
 "nbformat": 4,
 "nbformat_minor": 5
}
