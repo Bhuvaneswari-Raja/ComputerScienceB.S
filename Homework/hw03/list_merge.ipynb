{
 "cells": [
  {
   "cell_type": "code",
   "execution_count": null,
   "id": "5e9997d3",
   "metadata": {},
   "outputs": [
    {
     "data": {
      "text/plain": [
       "'\\nFile: list_merge.py\\nAuthor: Pooja Rajamanikandan\\nDate: 09/26/2023\\nLab Section: 50\\nEmail:  le64534@umbc.edu\\nDescription: merger two lists containing inputs from the user\\n'"
      ]
     },
     "execution_count": 1,
     "metadata": {},
     "output_type": "execute_result"
    }
   ],
   "source": [
    "\"\"\"\n",
    "File: list_merge.py\n",
    "Author: Pooja Rajamanikandan\n",
    "Date: 09/26/2023\n",
    "Lab Section: 50\n",
    "Email:  le64534@umbc.edu\n",
    "Description: merger two lists containing inputs from the user\n",
    "\"\"\""
   ]
  },
  {
   "cell_type": "code",
   "execution_count": 14,
   "id": "fc3148ae",
   "metadata": {},
   "outputs": [
    {
     "name": "stdout",
     "output_type": "stream",
     "text": [
      "How  many elements do you want in each list? 4\n",
      "What do you want to put in the first list? Pooja\n",
      "What do you want to put in the first list? Nandhini\n",
      "What do you want to put in the first list? Kala\n",
      "What do you want to put in the first list? Raja\n",
      "What do you want to put in the second list? 1\n",
      "What do you want to put in the second list? 23\n",
      "What do you want to put in the second list? 4\n",
      "What do you want to put in the second list? 5\n",
      "The first list is:  ['Pooja', 'Nandhini', 'Kala', 'Raja']\n",
      "The second list is:  ['1', '23', '4', '5']\n",
      "The merged list is:   ['Pooja', '1', 'Nandhini', '23', 'Kala', '4', 'Raja', '5']\n"
     ]
    }
   ],
   "source": [
    "list_size = int(input(\"How  many elements do you want in each list? \"))\n",
    "list_1 = []\n",
    "list_2 = []\n",
    "merged_list = [] \n",
    "\n",
    "for x in range(list_size):\n",
    "    first_list_element = input(\"What do you want to put in the first list? \")\n",
    "    list_1.append(first_list_element)\n",
    "\n",
    "for x in range(list_size):\n",
    "    second_list_element = input(\"What do you want to put in the second list? \")\n",
    "    list_2.append(second_list_element)\n",
    "\n",
    "\n",
    "\n",
    "for x in range(list_size):\n",
    "    merged_list.append(list_1[x])    \n",
    "    merged_list.append(list_2[x])    \n",
    "\n",
    "print(\"The first list is: \",list_1)\n",
    "print(\"The second list is: \",list_2)\n",
    "print(\"The merged list is:  \",merged_list)  "
   ]
  }
 ],
 "metadata": {
  "kernelspec": {
   "display_name": "Python 3 (ipykernel)",
   "language": "python",
   "name": "python3"
  },
  "language_info": {
   "codemirror_mode": {
    "name": "ipython",
    "version": 3
   },
   "file_extension": ".py",
   "mimetype": "text/x-python",
   "name": "python",
   "nbconvert_exporter": "python",
   "pygments_lexer": "ipython3",
   "version": "3.11.4"
  }
 },
 "nbformat": 4,
 "nbformat_minor": 5
}
