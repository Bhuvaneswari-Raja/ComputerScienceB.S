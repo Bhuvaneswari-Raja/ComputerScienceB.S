{
 "cells": [
  {
   "cell_type": "code",
   "execution_count": 6,
   "id": "96437495",
   "metadata": {},
   "outputs": [
    {
     "data": {
      "text/plain": [
       "'\\nFile: draw_a_square.py\\nAuthor: Pooja Rajamanikandan\\nDate: 09/26/2023\\nLab Section: 54\\nEmail:  le64534@umbc.edu\\nDescription:  This program will ask the user for a size and then draw a \\n    square using stars.\\n'"
      ]
     },
     "execution_count": 6,
     "metadata": {},
     "output_type": "execute_result"
    }
   ],
   "source": [
    "\"\"\"\n",
    "File: draw_a_square.py\n",
    "Author: Pooja Rajamanikandan\n",
    "Date: 09/26/2023\n",
    "Lab Section: 54\n",
    "Email:  le64534@umbc.edu\n",
    "Description:  This program will ask the user for a size and then draw a \n",
    "    square using stars.\n",
    "\"\"\""
   ]
  },
  {
   "cell_type": "code",
   "execution_count": 7,
   "id": "852ca898",
   "metadata": {},
   "outputs": [
    {
     "name": "stdout",
     "output_type": "stream",
     "text": [
      "What is the size of the square that we want to draw? 10\n",
      "**********\n",
      "*        *\n",
      "*        *\n",
      "*        *\n",
      "*        *\n",
      "*        *\n",
      "*        *\n",
      "*        *\n",
      "*        *\n",
      "**********\n"
     ]
    }
   ],
   "source": [
    "if __name__ == \"__main__\":\n",
    "    square_size = int(input(\"What is the size of the square that we want to draw? \"))\n",
    "    \n",
    "    for x in range(square_size):\n",
    "        x += 1\n",
    "        if x == 1 or x == square_size:\n",
    "            print(\"*\"*square_size)\n",
    "        else:\n",
    "            print(\"*\",end=\"\")\n",
    "            print(\" \"*(square_size-2)+\"*\")"
   ]
  }
 ],
 "metadata": {
  "kernelspec": {
   "display_name": "Python 3 (ipykernel)",
   "language": "python",
   "name": "python3"
  },
  "language_info": {
   "codemirror_mode": {
    "name": "ipython",
    "version": 3
   },
   "file_extension": ".py",
   "mimetype": "text/x-python",
   "name": "python",
   "nbconvert_exporter": "python",
   "pygments_lexer": "ipython3",
   "version": "3.11.4"
  }
 },
 "nbformat": 4,
 "nbformat_minor": 5
}
