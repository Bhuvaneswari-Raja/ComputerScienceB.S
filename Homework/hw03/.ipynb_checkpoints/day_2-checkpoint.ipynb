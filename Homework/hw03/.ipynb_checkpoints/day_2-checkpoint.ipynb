{
 "cells": [
  {
   "cell_type": "code",
   "execution_count": 1,
   "id": "c44f591f",
   "metadata": {},
   "outputs": [
    {
     "data": {
      "text/plain": [
       "'\\nFile: day_2.py\\nAuthor: Pooja Rajamanikandan\\nDate: 09/26/2023\\nLab Section: 50\\nEmail:  le64534@umbc.edu\\nDescription: The program will determine the day of the week using at least \\n    one listand modulus division\\n'"
      ]
     },
     "execution_count": 1,
     "metadata": {},
     "output_type": "execute_result"
    }
   ],
   "source": [
    "\"\"\"\n",
    "File: day_2.py\n",
    "Author: Pooja Rajamanikandan\n",
    "Date: 09/26/2023\n",
    "Lab Section: 50\n",
    "Email:  le64534@umbc.edu\n",
    "Description: The program will determine the day of the week using at least \n",
    "    one listand modulus division\n",
    "\"\"\""
   ]
  },
  {
   "cell_type": "code",
   "execution_count": 16,
   "id": "21963692",
   "metadata": {},
   "outputs": [
    {
     "ename": "IndentationError",
     "evalue": "expected an indented block after 'if' statement on line 7 (548314256.py, line 8)",
     "output_type": "error",
     "traceback": [
      "\u001b[1;36m  Cell \u001b[1;32mIn[16], line 8\u001b[1;36m\u001b[0m\n\u001b[1;33m    suffix = \"st\"\u001b[0m\n\u001b[1;37m    ^\u001b[0m\n\u001b[1;31mIndentationError\u001b[0m\u001b[1;31m:\u001b[0m expected an indented block after 'if' statement on line 7\n"
     ]
    }
   ],
   "source": [
    "if __name__ == \"__main__\":\n",
    "    num_date = int(input(\"What day of September 2023 is it? \"))\n",
    "    \n",
    "    days = [\"Monday\",\"Tuesday\",\"Wednesday\",\"Thursday\",\"Friday\",\"Saturday\",\"Sunday\"]\n",
    "    \n",
    "\n",
    "    if num_date == 1 or num_date == 21:\n",
    "        suffix = \"st\"\n",
    "    elif num_date == 2 or num_date == 22:\n",
    "        suffix = \"nd\"\n",
    "    elif num_date == 3 or num_date == 23:\n",
    "        suffix = \"rd\"\n",
    "    else:\n",
    "        suffix = \"th\"\n",
    "    \n",
    "\n",
    "    if num_date % 7 = 1:\n",
    "    print(\"September {}{} is a {}\".format(num_date,suffix,days[4]))\n",
    "    elif num_date % 7 == 2:\n",
    "    print(\"September {}{} is a {}\".format(num_date,suffix,days[5]))\n",
    "    elif num_date % 7 == 3:\n",
    "    print(\"September {}{} is a {}\".format(num_date,suffix,days[6]))\n",
    "    elif num_date % 7 == 4:\n",
    "    print(\"September {}{} is a {}\".format(num_date,suffix,days[0]))\n",
    "    elif num_date % 7 == 5:\n",
    "    print(\"September {}{} is a {}\".format(num_date,suffix,days[1]))\n",
    "    elif num_date % 7 == 6:\n",
    "    print(\"September {}{} is a {}\".format(num_date,suffix,days[2]))\n",
    "    elif num_date % 7 == 0:\n",
    "    print(\"September {}{} is a {}\".format(num_date,suffix,days[3]))\n",
    "    else:\n",
    "    print(\"That day\",num_date,\"is out of range, you must enter a number between 1 and 30\")\n",
    "\n"
   ]
  },
  {
   "cell_type": "code",
   "execution_count": 15,
   "id": "a0ea10a9",
   "metadata": {},
   "outputs": [
    {
     "data": {
      "text/plain": [
       "4"
      ]
     },
     "execution_count": 15,
     "metadata": {},
     "output_type": "execute_result"
    }
   ],
   "source": [
    "4%7"
   ]
  },
  {
   "cell_type": "code",
   "execution_count": null,
   "id": "e29e6958",
   "metadata": {},
   "outputs": [],
   "source": []
  }
 ],
 "metadata": {
  "kernelspec": {
   "display_name": "Python 3 (ipykernel)",
   "language": "python",
   "name": "python3"
  },
  "language_info": {
   "codemirror_mode": {
    "name": "ipython",
    "version": 3
   },
   "file_extension": ".py",
   "mimetype": "text/x-python",
   "name": "python",
   "nbconvert_exporter": "python",
   "pygments_lexer": "ipython3",
   "version": "3.11.4"
  }
 },
 "nbformat": 4,
 "nbformat_minor": 5
}
