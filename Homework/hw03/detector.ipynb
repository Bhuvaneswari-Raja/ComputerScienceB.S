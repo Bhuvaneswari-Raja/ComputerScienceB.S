{
 "cells": [
  {
   "cell_type": "code",
   "execution_count": 1,
   "id": "5f5efdcc",
   "metadata": {},
   "outputs": [
    {
     "data": {
      "text/plain": [
       "'\\nFile: basel.py\\nAuthor: Pooja Rajamanikandan\\nDate: 09/26/2023\\nLab Section: 50\\nEmail:  le64534@umbc.edu\\nDescription: check for diphthong in the word the user inputs\\n'"
      ]
     },
     "execution_count": 1,
     "metadata": {},
     "output_type": "execute_result"
    }
   ],
   "source": [
    "\"\"\"\n",
    "File: basel.py\n",
    "Author: Pooja Rajamanikandan\n",
    "Date: 09/26/2023\n",
    "Lab Section: 50\n",
    "Email:  le64534@umbc.edu\n",
    "Description: check for diphthong in the word the user inputs\n",
    "\"\"\""
   ]
  },
  {
   "cell_type": "code",
   "execution_count": 14,
   "id": "74aa09d1",
   "metadata": {},
   "outputs": [
    {
     "name": "stdout",
     "output_type": "stream",
     "text": [
      "Tell me the word you wish to check for diphthongs: pooja\n",
      "There are 1 diphthongs in the string\n"
     ]
    }
   ],
   "source": [
    "if __name__ == '__main__':\n",
    "    word = input(\"Tell me the word you wish to check for diphthongs: \")\n",
    "\n",
    "    vowels = [\"a\",\"e\",\"i\",\"o\",\"u\",\"y\"]\n",
    "    dipthong_detector = 0\n",
    "    \n",
    "    ''''\n",
    "    for x in word:\n",
    "        if x in vowels:\n",
    "            if word[word.index(x)+1] in vowels:\n",
    "                if word[word.index(x)+1] == x:\n",
    "                    dipthong_detector += 1\n",
    "    '''\n",
    "    for x in range(len(word)):\n",
    "        if word[x] in vowels and word[x+1:x+2] in vowels:\n",
    "            dipthong_detector += 1\n",
    "\n",
    "    print(\"There are {} diphthongs in the string\".format(dipthong_detector))\n",
    "            \n",
    "            \n",
    "    \n"
   ]
  },
  {
   "cell_type": "code",
   "execution_count": 1,
   "id": "4d6d2572",
   "metadata": {},
   "outputs": [
    {
     "name": "stdout",
     "output_type": "stream",
     "text": [
      "Hello Git\n"
     ]
    }
   ],
   "source": [
    "print(\"Hello Git\")"
   ]
  },
  {
   "cell_type": "code",
   "execution_count": null,
   "id": "4caf522e",
   "metadata": {},
   "outputs": [],
   "source": []
  }
 ],
 "metadata": {
  "kernelspec": {
   "display_name": "Python 3 (ipykernel)",
   "language": "python",
   "name": "python3"
  },
  "language_info": {
   "codemirror_mode": {
    "name": "ipython",
    "version": 3
   },
   "file_extension": ".py",
   "mimetype": "text/x-python",
   "name": "python",
   "nbconvert_exporter": "python",
   "pygments_lexer": "ipython3",
   "version": "3.11.4"
  }
 },
 "nbformat": 4,
 "nbformat_minor": 5
}
