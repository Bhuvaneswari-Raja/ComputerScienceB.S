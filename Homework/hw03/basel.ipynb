{
 "cells": [
  {
   "cell_type": "code",
   "execution_count": 1,
   "id": "5f1f8d48",
   "metadata": {},
   "outputs": [
    {
     "data": {
      "text/plain": [
       "'\\nFile: basel.py\\nAuthor: Pooja Rajamanikandan\\nDate: 09/26/2023\\nLab Section: 50\\nEmail:  le64534@umbc.edu\\nDescription:  \\n'"
      ]
     },
     "execution_count": 1,
     "metadata": {},
     "output_type": "execute_result"
    }
   ],
   "source": [
    "\"\"\"\n",
    "File: basel.py\n",
    "Author: Pooja Rajamanikandan\n",
    "Date: 09/26/2023\n",
    "Lab Section: 54\n",
    "Email:  le64534@umbc.edu\n",
    "Description: calculates the approximation for the number the \n",
    "    user inputs\n",
    "\"\"\""
   ]
  },
  {
   "cell_type": "code",
   "execution_count": 8,
   "id": "5fd0a51b",
   "metadata": {},
   "outputs": [
    {
     "name": "stdout",
     "output_type": "stream",
     "text": [
      "What is the number of terms you want to sum? 2500\n",
      "The approximation for 1.6445341468375643 terms is 1.6445341468375643\n"
     ]
    }
   ],
   "source": [
    "if __name__ == '__main__':\n",
    "    sum_ending_point = int(input(\"What is the number of terms you want to sum? \"))\n",
    "\n",
    "    approximation_sum = 0\n",
    "    for x in range(sum_ending_point):\n",
    "        x +=1 \n",
    "        approximation_sum += (1/x**2)\n",
    "        \n",
    "    print(\"The approximation for\",sum_ending_point,\"terms is\",approximation_sum)\n",
    "    \n",
    "    "
   ]
  },
  {
   "cell_type": "code",
   "execution_count": null,
   "id": "d347a3a9",
   "metadata": {},
   "outputs": [],
   "source": []
  }
 ],
 "metadata": {
  "kernelspec": {
   "display_name": "Python 3 (ipykernel)",
   "language": "python",
   "name": "python3"
  },
  "language_info": {
   "codemirror_mode": {
    "name": "ipython",
    "version": 3
   },
   "file_extension": ".py",
   "mimetype": "text/x-python",
   "name": "python",
   "nbconvert_exporter": "python",
   "pygments_lexer": "ipython3",
   "version": "3.11.4"
  }
 },
 "nbformat": 4,
 "nbformat_minor": 5
}
